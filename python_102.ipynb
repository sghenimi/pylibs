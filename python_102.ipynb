{
 "cells": [
  {
   "cell_type": "code",
   "execution_count": null,
   "id": "2c8c7b83",
   "metadata": {},
   "outputs": [],
   "source": [
    "import time"
   ]
  },
  {
   "cell_type": "code",
   "execution_count": null,
   "id": "0254ff33",
   "metadata": {},
   "outputs": [],
   "source": [
    "start = time.time()"
   ]
  },
  {
   "cell_type": "code",
   "execution_count": null,
   "id": "a9f53782",
   "metadata": {},
   "outputs": [],
   "source": [
    "end = time.time()"
   ]
  },
  {
   "cell_type": "code",
   "execution_count": null,
   "id": "103ffaea",
   "metadata": {},
   "outputs": [],
   "source": [
    "print(end-start)"
   ]
  },
  {
   "cell_type": "code",
   "execution_count": null,
   "id": "74a0586d",
   "metadata": {},
   "outputs": [],
   "source": [
    "print(round(end-start, 2))"
   ]
  },
  {
   "cell_type": "code",
   "execution_count": null,
   "id": "fb50ef72",
   "metadata": {},
   "outputs": [],
   "source": [
    "print(start)"
   ]
  },
  {
   "cell_type": "code",
   "execution_count": null,
   "id": "4cc8bc38",
   "metadata": {},
   "outputs": [],
   "source": [
    "print(end)"
   ]
  },
  {
   "cell_type": "code",
   "execution_count": null,
   "id": "1734f907",
   "metadata": {},
   "outputs": [],
   "source": [
    "print(time.ctime(1639720385.089786))"
   ]
  },
  {
   "cell_type": "code",
   "execution_count": null,
   "id": "d030c028",
   "metadata": {},
   "outputs": [],
   "source": [
    "time.localtime(1639720385.089786)"
   ]
  },
  {
   "cell_type": "code",
   "execution_count": null,
   "id": "ad36d1a6",
   "metadata": {},
   "outputs": [],
   "source": []
  }
 ],
 "metadata": {
  "kernelspec": {
   "display_name": "Python 3 (ipykernel)",
   "language": "python",
   "name": "python3"
  },
  "language_info": {
   "codemirror_mode": {
    "name": "ipython",
    "version": 3
   },
   "file_extension": ".py",
   "mimetype": "text/x-python",
   "name": "python",
   "nbconvert_exporter": "python",
   "pygments_lexer": "ipython3",
   "version": "3.9.6"
  }
 },
 "nbformat": 4,
 "nbformat_minor": 5
}
