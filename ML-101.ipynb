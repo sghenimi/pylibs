{
 "cells": [
  {
   "cell_type": "code",
   "execution_count": 1,
   "metadata": {},
   "outputs": [],
   "source": [
    "import numpy as np\n",
    "import pandas as pd\n",
    "from scipy import stats"
   ]
  },
  {
   "cell_type": "code",
   "execution_count": 2,
   "metadata": {},
   "outputs": [],
   "source": [
    "speed = [99,86,87,88,111,86,103,87,94,78,77,85,86]"
   ]
  },
  {
   "cell_type": "code",
   "execution_count": 4,
   "metadata": {},
   "outputs": [
    {
     "data": {
      "text/plain": [
       "87.0"
      ]
     },
     "execution_count": 4,
     "metadata": {},
     "output_type": "execute_result"
    }
   ],
   "source": [
    "np.median(speed)"
   ]
  },
  {
   "cell_type": "code",
   "execution_count": 6,
   "metadata": {},
   "outputs": [
    {
     "data": {
      "text/plain": [
       "89.76923076923077"
      ]
     },
     "execution_count": 6,
     "metadata": {},
     "output_type": "execute_result"
    }
   ],
   "source": [
    "np.mean(speed)"
   ]
  },
  {
   "cell_type": "code",
   "execution_count": 7,
   "metadata": {},
   "outputs": [],
   "source": [
    "speed.sort()"
   ]
  },
  {
   "cell_type": "code",
   "execution_count": 8,
   "metadata": {},
   "outputs": [
    {
     "data": {
      "text/plain": [
       "[77, 78, 85, 86, 86, 86, 87, 87, 88, 94, 99, 103, 111]"
      ]
     },
     "execution_count": 8,
     "metadata": {},
     "output_type": "execute_result"
    }
   ],
   "source": [
    "speed"
   ]
  },
  {
   "cell_type": "code",
   "execution_count": 9,
   "metadata": {},
   "outputs": [],
   "source": [
    "speed.insert(0, 75)"
   ]
  },
  {
   "cell_type": "code",
   "execution_count": 10,
   "metadata": {},
   "outputs": [
    {
     "data": {
      "text/plain": [
       "[75, 77, 78, 85, 86, 86, 86, 87, 87, 88, 94, 99, 103, 111]"
      ]
     },
     "execution_count": 10,
     "metadata": {},
     "output_type": "execute_result"
    }
   ],
   "source": [
    "speed"
   ]
  },
  {
   "cell_type": "code",
   "execution_count": 13,
   "metadata": {},
   "outputs": [
    {
     "data": {
      "text/plain": [
       "87.0"
      ]
     },
     "execution_count": 13,
     "metadata": {},
     "output_type": "execute_result"
    }
   ],
   "source": [
    "np.median(speed)"
   ]
  },
  {
   "cell_type": "code",
   "execution_count": 14,
   "metadata": {},
   "outputs": [],
   "source": [
    "speed = [99,86,87,88,111,86,103,87,94,78,77,85,86]"
   ]
  },
  {
   "cell_type": "code",
   "execution_count": 15,
   "metadata": {},
   "outputs": [],
   "source": [
    "the_mode = stats.mode(speed)"
   ]
  },
  {
   "cell_type": "code",
   "execution_count": 16,
   "metadata": {},
   "outputs": [
    {
     "data": {
      "text/plain": [
       "ModeResult(mode=array([86]), count=array([3]))"
      ]
     },
     "execution_count": 16,
     "metadata": {},
     "output_type": "execute_result"
    }
   ],
   "source": [
    "the_mode"
   ]
  },
  {
   "cell_type": "code",
   "execution_count": 17,
   "metadata": {},
   "outputs": [
    {
     "data": {
      "text/plain": [
       "9.258292301032677"
      ]
     },
     "execution_count": 17,
     "metadata": {},
     "output_type": "execute_result"
    }
   ],
   "source": [
    "np.std(speed)"
   ]
  },
  {
   "cell_type": "code",
   "execution_count": 18,
   "metadata": {},
   "outputs": [
    {
     "name": "stdout",
     "output_type": "stream",
     "text": [
      "Mean : 77.42857142857143\n",
      "STD : 37.84501153334721\n"
     ]
    }
   ],
   "source": [
    "# A high standard deviation means that the values are spread out over a wider range.\n",
    "speed = [32,111,138,28,59,77,97]\n",
    "print(f\"Mean : {np.mean(speed)}\")\n",
    "print(f\"STD : { np.std(speed)}\")"
   ]
  },
  {
   "cell_type": "code",
   "execution_count": 20,
   "metadata": {},
   "outputs": [
    {
     "data": {
      "text/plain": [
       "0.9035079029052513"
      ]
     },
     "execution_count": 20,
     "metadata": {},
     "output_type": "execute_result"
    }
   ],
   "source": [
    "#A low standard deviation means that most of the numbers are close to the mean (average) value.\n",
    "speed = [86,87,88,86,87,85,86]\n",
    "np.std(speed)"
   ]
  },
  {
   "cell_type": "code",
   "execution_count": 21,
   "metadata": {},
   "outputs": [
    {
     "name": "stdout",
     "output_type": "stream",
     "text": [
      "37.84501153334721\n",
      "1432.2448979591834\n",
      "1432.2448979591834\n"
     ]
    }
   ],
   "source": [
    "# Variance\n",
    "speed = [32,111,138,28,59,77,97]\n",
    "\n",
    "my_std = np.std(speed)\n",
    "my_var = np.var(speed)\n",
    "\n",
    "print(my_std)\n",
    "print(my_std * my_std)\n",
    "print(my_var)"
   ]
  },
  {
   "cell_type": "code",
   "execution_count": 22,
   "metadata": {},
   "outputs": [
    {
     "name": "stdout",
     "output_type": "stream",
     "text": [
      "43.0\n"
     ]
    }
   ],
   "source": [
    "#Percentiles\n",
    "ages = [5,31,43,48,50,41,7,11,15,39,80,82,32,2,8,6,25,36,27,61,31]\n",
    "print(np.percentile(ages, 75))"
   ]
  },
  {
   "cell_type": "code",
   "execution_count": 23,
   "metadata": {},
   "outputs": [
    {
     "name": "stdout",
     "output_type": "stream",
     "text": [
      "[2, 5, 6, 7, 8, 11, 15, 25, 27, 31, 31, 32, 36, 39, 41, 43, 48, 50, 61, 80, 82]\n"
     ]
    },
    {
     "data": {
      "text/plain": [
       "21"
      ]
     },
     "execution_count": 23,
     "metadata": {},
     "output_type": "execute_result"
    }
   ],
   "source": [
    "ages.sort()\n",
    "print(ages)\n",
    "len(ages)\n"
   ]
  },
  {
   "cell_type": "code",
   "execution_count": 24,
   "metadata": {},
   "outputs": [
    {
     "data": {
      "text/plain": [
       "61.0"
      ]
     },
     "execution_count": 24,
     "metadata": {},
     "output_type": "execute_result"
    }
   ],
   "source": [
    "ages = [5,31,43,48,50,41,7,11,15,39,80,82,32,2,8,6,25,36,27,61,31]\n",
    "np.percentile(ages, 90)"
   ]
  },
  {
   "cell_type": "code",
   "execution_count": 25,
   "metadata": {},
   "outputs": [
    {
     "name": "stdout",
     "output_type": "stream",
     "text": [
      "[2.79604207 2.30261813 1.38986568 2.69985491 3.70010745 1.03306353\n",
      " 3.87669669 1.38033386 2.81333433 4.52116584 2.69914452 0.26313963\n",
      " 0.63798479 0.05016245 0.58469303 0.9756996  4.57902935 0.71384099\n",
      " 2.73097426 4.09579621 4.44456366 0.90083306 2.30802405 3.31298052\n",
      " 2.01683828 3.14195441 4.88035871 0.65106557 1.40202113 2.74820562\n",
      " 4.60900917 1.21037514 2.71895701 2.07872086 3.60626741 2.57309636\n",
      " 1.33900843 1.72049245 1.28283631 0.48779623 4.37687122 0.2146049\n",
      " 4.54808147 3.44790402 3.21049086 4.95450152 1.47910984 4.35301122\n",
      " 4.7350035  1.87122937 0.08281806 0.41033522 4.30187871 3.20898044\n",
      " 4.69408717 4.18056522 0.44026913 0.54098407 2.45715109 2.6437645\n",
      " 3.41567136 4.65159191 3.13073344 0.61013652 1.18882005 0.71972227\n",
      " 0.89236779 3.54134667 4.25436662 0.31018071 4.7246842  2.48436217\n",
      " 1.24274923 0.99324061 4.82708829 0.85520501 2.78469914 0.03080705\n",
      " 0.52987691 0.09686431 3.36222955 4.05154361 4.41890724 3.25569896\n",
      " 2.48808956 1.00282127 1.92142139 2.23368247 2.47406096 3.8369838\n",
      " 2.75422719 3.95914123 1.70068098 3.20016504 1.19444522 4.04932397\n",
      " 0.52365294 2.12959971 4.2976042  3.88082141 2.9017836  4.68234145\n",
      " 0.68053434 2.45372449 1.3698658  3.51812815 3.82217227 4.98971643\n",
      " 0.65278531 4.0869078  1.38445614 4.39912233 2.04036368 0.99098136\n",
      " 2.48131547 2.26091243 3.05533285 4.40677204 1.30210925 3.37180017\n",
      " 4.31273644 3.34875347 2.23870742 4.3536658  2.88512423 0.76042255\n",
      " 1.40447606 2.03546806 4.4217414  0.80704866 3.47708511 3.61650246\n",
      " 3.5987627  3.84174529 4.70737212 4.10775583 4.95872076 4.82788938\n",
      " 0.94786213 1.82404864 2.47532512 4.73214546 2.4882536  2.88697749\n",
      " 1.96154285 3.50888751 1.12550001 2.31922139 2.41958958 2.33924216\n",
      " 1.68697125 2.48602194 1.75523096 1.25195466 2.28217603 0.16717493\n",
      " 0.59596287 1.5635877  2.13616602 0.54063743 1.5345553  4.91644456\n",
      " 1.86940057 0.60575359 1.8377929  3.46941049 3.05321726 0.09121227\n",
      " 4.91255402 2.98637441 0.62992944 4.258298   3.44007549 0.72487648\n",
      " 3.74221644 0.09684951 1.51823536 0.1177602  3.91807395 3.45965817\n",
      " 2.38185782 4.05954822 0.02401073 2.46515982 0.46178614 2.34126605\n",
      " 4.98559196 2.19290635 1.22245056 3.22762975 2.48301832 2.17022812\n",
      " 4.99011697 3.67849913 4.65470257 4.27252162 3.4585166  3.15249959\n",
      " 0.68143451 3.51039902 0.9868908  3.15748573 2.64285917 4.6284581\n",
      " 0.95629707 0.98534197 0.81965912 1.89151837 2.4946355  3.20048462\n",
      " 1.39720912 1.48336399 0.2518409  4.26357852 1.39416836 3.88955903\n",
      " 2.38107324 1.86942572 0.93594742 2.94561216 2.166406   3.56662864\n",
      " 4.19856805 3.0322744  4.71039825 1.49531901 4.31873723 4.2937244\n",
      " 0.18463729 0.84793821 1.57537839 2.36047618 3.51447158 2.93073115\n",
      " 3.53150818 0.44279124 0.59326584 0.28863191 0.53243271 1.22811309\n",
      " 1.21953709 2.01611426 1.1669887  0.18510064 2.00840343 0.39029221\n",
      " 1.22617909 1.67855485 4.07014624 0.76424585]\n"
     ]
    }
   ],
   "source": [
    "ds = np.random.uniform(0.0, 5.0, 250)\n",
    "\n",
    "print(ds)"
   ]
  },
  {
   "cell_type": "code",
   "execution_count": 26,
   "metadata": {},
   "outputs": [],
   "source": [
    "import matplotlib.pyplot as plt"
   ]
  },
  {
   "cell_type": "code",
   "execution_count": 27,
   "metadata": {},
   "outputs": [
    {
     "data": {
      "image/png": "[encoded data removed]",
      "text/plain": [
       "<Figure size 432x288 with 1 Axes>"
      ]
     },
     "metadata": {
      "needs_background": "light"
     },
     "output_type": "display_data"
    }
   ],
   "source": [
    "plt.hist(ds, 5)\n",
    "plt.show()"
   ]
  },
  {
   "cell_type": "code",
   "execution_count": 31,
   "metadata": {},
   "outputs": [],
   "source": [
    "ds2 = np.random.uniform(0.0, 5.0, 100000)"
   ]
  },
  {
   "cell_type": "code",
   "execution_count": 32,
   "metadata": {},
   "outputs": [
    {
     "data": {
      "image/png": "[encoded data removed]",
      "text/plain": [
       "<Figure size 432x288 with 1 Axes>"
      ]
     },
     "metadata": {
      "needs_background": "light"
     },
     "output_type": "display_data"
    }
   ],
   "source": [
    "plt.hist(ds2,100)\n",
    "plt.show()"
   ]
  },
  {
   "cell_type": "code",
   "execution_count": 33,
   "metadata": {},
   "outputs": [
    {
     "data": {
      "image/png": "[encoded data removed]",
      "text/plain": [
       "<Figure size 432x288 with 1 Axes>"
      ]
     },
     "metadata": {
      "needs_background": "light"
     },
     "output_type": "display_data"
    }
   ],
   "source": [
    "# Normal Data Distribution\n",
    "\n",
    "ds3 = np.random.normal(5.0, 1.0, 100000)\n",
    "\n",
    "plt.hist(ds3, 100)\n",
    "plt.show()"
   ]
  },
  {
   "cell_type": "code",
   "execution_count": null,
   "metadata": {},
   "outputs": [],
   "source": []
  },
  {
   "cell_type": "code",
   "execution_count": null,
   "metadata": {},
   "outputs": [],
   "source": []
  }
 ],
 "metadata": {
  "kernelspec": {
   "display_name": "Python 3",
   "language": "python",
   "name": "python3"
  },
  "language_info": {
   "codemirror_mode": {
    "name": "ipython",
    "version": 3
   },
   "file_extension": ".py",
   "mimetype": "text/x-python",
   "name": "python",
   "nbconvert_exporter": "python",
   "pygments_lexer": "ipython3",
   "version": "3.7.3"
  }
 },
 "nbformat": 4,
 "nbformat_minor": 2
}
