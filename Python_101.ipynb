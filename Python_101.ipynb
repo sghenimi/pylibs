{
  "nbformat": 4,
  "nbformat_minor": 0,
  "metadata": {
    "colab": {
      "name": "Python 101.ipynb",
      "provenance": [],
      "collapsed_sections": [],
      "authorship_tag": "ABX9TyOMR2+oMNgr60rWOhrOygAW",
      "include_colab_link": true
    },
    "kernelspec": {
      "name": "python3",
      "display_name": "Python 3"
    }
  },
  "cells": [
    {
      "cell_type": "markdown",
      "metadata": {
        "id": "view-in-github",
        "colab_type": "text"
      },
      "source": [
        "<a href=\"https://colab.research.google.com/github/sghenimi/pylibs/blob/master/Python_101.ipynb\" target=\"_parent\"><img src=\"https://colab.research.google.com/assets/colab-badge.svg\" alt=\"Open In Colab\"/></a>"
      ]
    },
    {
      "cell_type": "code",
      "metadata": {
        "id": "RsE0mPBu_yRz"
      },
      "source": [
        "new_year = 2021"
      ],
      "execution_count": null,
      "outputs": []
    },
    {
      "cell_type": "code",
      "metadata": {
        "id": "zSXcr6a9ABF7"
      },
      "source": [
        "last_year = 2020"
      ],
      "execution_count": null,
      "outputs": []
    },
    {
      "cell_type": "code",
      "metadata": {
        "colab": {
          "base_uri": "https://localhost:8080/"
        },
        "id": "eVrWDRtVAPo3",
        "outputId": "1cbf7aa0-70a7-48d9-be34-45d1af7de7a3"
      },
      "source": [
        "type(last_year/2)"
      ],
      "execution_count": null,
      "outputs": [
        {
          "output_type": "execute_result",
          "data": {
            "text/plain": [
              "float"
            ]
          },
          "metadata": {
            "tags": []
          },
          "execution_count": 3
        }
      ]
    },
    {
      "cell_type": "code",
      "metadata": {
        "colab": {
          "base_uri": "https://localhost:8080/"
        },
        "id": "HUfJNQKzAX9j",
        "outputId": "db326843-2e15-4c79-8219-3c08a0a6aded"
      },
      "source": [
        "type(new_year//2)"
      ],
      "execution_count": null,
      "outputs": [
        {
          "output_type": "execute_result",
          "data": {
            "text/plain": [
              "int"
            ]
          },
          "metadata": {
            "tags": []
          },
          "execution_count": 4
        }
      ]
    },
    {
      "cell_type": "code",
      "metadata": {
        "id": "gGn7RZ9xAk69",
        "colab": {
          "base_uri": "https://localhost:8080/"
        },
        "outputId": "9f0f7f5b-9d8b-4375-f2a6-c8e074de616b"
      },
      "source": [
        "new_year//2"
      ],
      "execution_count": null,
      "outputs": [
        {
          "output_type": "execute_result",
          "data": {
            "text/plain": [
              "1010"
            ]
          },
          "metadata": {
            "tags": []
          },
          "execution_count": 5
        }
      ]
    },
    {
      "cell_type": "code",
      "metadata": {
        "colab": {
          "base_uri": "https://localhost:8080/"
        },
        "id": "7XdWVNA2_zqH",
        "outputId": "46ad1d49-7913-4210-e24b-d2c34eca124a"
      },
      "source": [
        "type(new_year)"
      ],
      "execution_count": null,
      "outputs": [
        {
          "output_type": "execute_result",
          "data": {
            "text/plain": [
              "int"
            ]
          },
          "metadata": {
            "tags": []
          },
          "execution_count": 6
        }
      ]
    },
    {
      "cell_type": "code",
      "metadata": {
        "id": "ldfFn8K19XhV"
      },
      "source": [
        "toto = \"Hello Toto\""
      ],
      "execution_count": null,
      "outputs": []
    },
    {
      "cell_type": "code",
      "metadata": {
        "colab": {
          "base_uri": "https://localhost:8080/"
        },
        "id": "iWkQZk9T9wFZ",
        "outputId": "9cbf22cc-f21a-4d01-9d98-dc8219311c1c"
      },
      "source": [
        "type(toto)"
      ],
      "execution_count": null,
      "outputs": [
        {
          "output_type": "execute_result",
          "data": {
            "text/plain": [
              "str"
            ]
          },
          "metadata": {
            "tags": []
          },
          "execution_count": 8
        }
      ]
    },
    {
      "cell_type": "code",
      "metadata": {
        "id": "0yzh-VPy97ye"
      },
      "source": [
        "nostr = \"\""
      ],
      "execution_count": null,
      "outputs": []
    },
    {
      "cell_type": "code",
      "metadata": {
        "id": "A1YqbyR_-KrF"
      },
      "source": [
        "def calcul_perimetre(cote1, cote2, cote3):\n",
        "  return cote1 + cote2 + cote3"
      ],
      "execution_count": null,
      "outputs": []
    },
    {
      "cell_type": "code",
      "metadata": {
        "colab": {
          "base_uri": "https://localhost:8080/"
        },
        "id": "MJrS1JBTB4YA",
        "outputId": "4a5bcf9e-1e7b-492d-be8d-97d5482c52e2"
      },
      "source": [
        "calcul_perimetre(2, 4, 1)"
      ],
      "execution_count": null,
      "outputs": [
        {
          "output_type": "execute_result",
          "data": {
            "text/plain": [
              "7"
            ]
          },
          "metadata": {
            "tags": []
          },
          "execution_count": 11
        }
      ]
    },
    {
      "cell_type": "code",
      "metadata": {
        "colab": {
          "base_uri": "https://localhost:8080/"
        },
        "id": "DXAcAtAdB_He",
        "outputId": "fa0629ee-9b53-4577-ec23-5e5c68f2a17e"
      },
      "source": [
        "print(\"Le triagle a un périmetre de :\",  calcul_perimetre(3, 6, 7)) "
      ],
      "execution_count": null,
      "outputs": [
        {
          "output_type": "stream",
          "text": [
            "Le triagle a un périmetre de : 16\n"
          ],
          "name": "stdout"
        }
      ]
    },
    {
      "cell_type": "code",
      "metadata": {
        "colab": {
          "base_uri": "https://localhost:8080/",
          "height": 35
        },
        "id": "3xItS4IaCZyN",
        "outputId": "812d9292-317f-454b-aa19-5b33a8bb7770"
      },
      "source": [
        "\"today is monday\".capitalize()"
      ],
      "execution_count": null,
      "outputs": [
        {
          "output_type": "execute_result",
          "data": {
            "application/vnd.google.colaboratory.intrinsic+json": {
              "type": "string"
            },
            "text/plain": [
              "'Today is monday'"
            ]
          },
          "metadata": {
            "tags": []
          },
          "execution_count": 13
        }
      ]
    },
    {
      "cell_type": "code",
      "metadata": {
        "colab": {
          "base_uri": "https://localhost:8080/",
          "height": 35
        },
        "id": "7KpD-KbzFp0x",
        "outputId": "10d73221-9341-4b2d-ebb8-b96903ff69e7"
      },
      "source": [
        "\"today is manday\".replace(\"an\", \"on\")"
      ],
      "execution_count": null,
      "outputs": [
        {
          "output_type": "execute_result",
          "data": {
            "application/vnd.google.colaboratory.intrinsic+json": {
              "type": "string"
            },
            "text/plain": [
              "'today is monday'"
            ]
          },
          "metadata": {
            "tags": []
          },
          "execution_count": 14
        }
      ]
    },
    {
      "cell_type": "code",
      "metadata": {
        "id": "E2ZbOXjIFwcp"
      },
      "source": [
        "from datetime import date as d"
      ],
      "execution_count": null,
      "outputs": []
    },
    {
      "cell_type": "code",
      "metadata": {
        "colab": {
          "base_uri": "https://localhost:8080/"
        },
        "id": "yo_rwqpSGIuI",
        "outputId": "5777e1b3-5ca9-48ae-cf4b-779827d99550"
      },
      "source": [
        "d.today()"
      ],
      "execution_count": null,
      "outputs": [
        {
          "output_type": "execute_result",
          "data": {
            "text/plain": [
              "datetime.date(2021, 2, 1)"
            ]
          },
          "metadata": {
            "tags": []
          },
          "execution_count": 16
        }
      ]
    },
    {
      "cell_type": "code",
      "metadata": {
        "id": "WpFLmACbG9AV"
      },
      "source": [
        "corona_date = [2019, 2020, 2021]"
      ],
      "execution_count": null,
      "outputs": []
    },
    {
      "cell_type": "code",
      "metadata": {
        "colab": {
          "base_uri": "https://localhost:8080/"
        },
        "id": "zfIcvTPxQLBu",
        "outputId": "f0aac475-4641-4cb7-b535-f8903cd37c68"
      },
      "source": [
        "print(corona_date[2])"
      ],
      "execution_count": null,
      "outputs": [
        {
          "output_type": "stream",
          "text": [
            "2021\n"
          ],
          "name": "stdout"
        }
      ]
    },
    {
      "cell_type": "code",
      "metadata": {
        "id": "I65MDfNwQOwq"
      },
      "source": [
        "cars = [\"BMW\", \"Volvo\", \"Renault\", \"Citroen\", \"Peugeot\"]"
      ],
      "execution_count": null,
      "outputs": []
    },
    {
      "cell_type": "code",
      "metadata": {
        "id": "HIHM2rVdRR7g"
      },
      "source": [
        "cars.append(\"Opel\")"
      ],
      "execution_count": null,
      "outputs": []
    },
    {
      "cell_type": "code",
      "metadata": {
        "colab": {
          "base_uri": "https://localhost:8080/"
        },
        "id": "nicHLGSuRciH",
        "outputId": "62be20f8-67b9-4438-cb58-b7356587ee1a"
      },
      "source": [
        "cars"
      ],
      "execution_count": null,
      "outputs": [
        {
          "output_type": "execute_result",
          "data": {
            "text/plain": [
              "['BMW', 'Volvo', 'Renault', 'Citroen', 'Peugeot', 'Opel']"
            ]
          },
          "metadata": {
            "tags": []
          },
          "execution_count": 21
        }
      ]
    },
    {
      "cell_type": "code",
      "metadata": {
        "colab": {
          "base_uri": "https://localhost:8080/",
          "height": 35
        },
        "id": "hg8_nCp-ReC_",
        "outputId": "6c830706-ff7d-4843-d4c5-52e791686f11"
      },
      "source": [
        "cars.pop()"
      ],
      "execution_count": null,
      "outputs": [
        {
          "output_type": "execute_result",
          "data": {
            "application/vnd.google.colaboratory.intrinsic+json": {
              "type": "string"
            },
            "text/plain": [
              "'Opel'"
            ]
          },
          "metadata": {
            "tags": []
          },
          "execution_count": 22
        }
      ]
    },
    {
      "cell_type": "code",
      "metadata": {
        "colab": {
          "base_uri": "https://localhost:8080/"
        },
        "id": "YWpuQiLHRh0-",
        "outputId": "8679dd4d-03cb-4411-9a43-2e1554333e22"
      },
      "source": [
        "cars"
      ],
      "execution_count": null,
      "outputs": [
        {
          "output_type": "execute_result",
          "data": {
            "text/plain": [
              "['BMW', 'Volvo', 'Renault', 'Citroen', 'Peugeot']"
            ]
          },
          "metadata": {
            "tags": []
          },
          "execution_count": 23
        }
      ]
    },
    {
      "cell_type": "code",
      "metadata": {
        "id": "0Qw6Qo25Rjc-"
      },
      "source": [
        "cars.insert(0, \"Ford\")"
      ],
      "execution_count": null,
      "outputs": []
    },
    {
      "cell_type": "code",
      "metadata": {
        "id": "cP2_b2NERv02"
      },
      "source": [
        "cars.remove(\"Peugeot\")"
      ],
      "execution_count": null,
      "outputs": []
    },
    {
      "cell_type": "code",
      "metadata": {
        "colab": {
          "base_uri": "https://localhost:8080/"
        },
        "id": "irrWz_vBSCA9",
        "outputId": "a073a10d-1d67-42f4-c8e2-479d5f0f7810"
      },
      "source": [
        "cars"
      ],
      "execution_count": null,
      "outputs": [
        {
          "output_type": "execute_result",
          "data": {
            "text/plain": [
              "['Ford', 'BMW', 'Volvo', 'Renault', 'Citroen']"
            ]
          },
          "metadata": {
            "tags": []
          },
          "execution_count": 26
        }
      ]
    },
    {
      "cell_type": "code",
      "metadata": {
        "colab": {
          "base_uri": "https://localhost:8080/"
        },
        "id": "-AK7QIJDSYW0",
        "outputId": "82e9051b-be88-4757-d430-9863b6a88ce8"
      },
      "source": [
        "cars.index(\"Volvo\")"
      ],
      "execution_count": null,
      "outputs": [
        {
          "output_type": "execute_result",
          "data": {
            "text/plain": [
              "2"
            ]
          },
          "metadata": {
            "tags": []
          },
          "execution_count": 27
        }
      ]
    },
    {
      "cell_type": "code",
      "metadata": {
        "id": "tadwykrYSf2r"
      },
      "source": [
        "cars.extend([\"Toyota\", \"Honda\"])"
      ],
      "execution_count": null,
      "outputs": []
    },
    {
      "cell_type": "code",
      "metadata": {
        "colab": {
          "base_uri": "https://localhost:8080/"
        },
        "id": "uFmPilGUSzci",
        "outputId": "267be633-d35e-46d8-d44c-934a672b0c8f"
      },
      "source": [
        "cars"
      ],
      "execution_count": null,
      "outputs": [
        {
          "output_type": "execute_result",
          "data": {
            "text/plain": [
              "['Ford', 'BMW', 'Volvo', 'Renault', 'Citroen', 'Toyota', 'Honda']"
            ]
          },
          "metadata": {
            "tags": []
          },
          "execution_count": 29
        }
      ]
    },
    {
      "cell_type": "code",
      "metadata": {
        "id": "cghxudBIS0Li"
      },
      "source": [
        "del cars[1]"
      ],
      "execution_count": null,
      "outputs": []
    },
    {
      "cell_type": "code",
      "metadata": {
        "colab": {
          "base_uri": "https://localhost:8080/"
        },
        "id": "LANGjKPlS8xq",
        "outputId": "0315ca19-95c5-4d72-f141-80a8d55345d3"
      },
      "source": [
        "print(cars)"
      ],
      "execution_count": null,
      "outputs": [
        {
          "output_type": "stream",
          "text": [
            "['Ford', 'Volvo', 'Renault', 'Citroen', 'Toyota', 'Honda']\n"
          ],
          "name": "stdout"
        }
      ]
    },
    {
      "cell_type": "code",
      "metadata": {
        "colab": {
          "base_uri": "https://localhost:8080/"
        },
        "id": "VGl5mTLMTBSx",
        "outputId": "60d5e733-38e3-47a6-c56b-4b49dd577ed6"
      },
      "source": [
        "print(len(cars))"
      ],
      "execution_count": null,
      "outputs": [
        {
          "output_type": "stream",
          "text": [
            "6\n"
          ],
          "name": "stdout"
        }
      ]
    },
    {
      "cell_type": "code",
      "metadata": {
        "colab": {
          "base_uri": "https://localhost:8080/"
        },
        "id": "t6HyvHWhTuxk",
        "outputId": "d824af9a-b688-40b3-8f17-ebf9d5f5e9f1"
      },
      "source": [
        "type(cars)"
      ],
      "execution_count": null,
      "outputs": [
        {
          "output_type": "execute_result",
          "data": {
            "text/plain": [
              "list"
            ]
          },
          "metadata": {
            "tags": []
          },
          "execution_count": 33
        }
      ]
    },
    {
      "cell_type": "code",
      "metadata": {
        "id": "_Nvb7SOATIFB"
      },
      "source": [
        "langages = {}"
      ],
      "execution_count": null,
      "outputs": []
    },
    {
      "cell_type": "code",
      "metadata": {
        "colab": {
          "base_uri": "https://localhost:8080/"
        },
        "id": "FqcsUQLhTtGm",
        "outputId": "c30c3853-7c9b-47be-dfa1-56c782505588"
      },
      "source": [
        "type(langages)"
      ],
      "execution_count": null,
      "outputs": [
        {
          "output_type": "execute_result",
          "data": {
            "text/plain": [
              "dict"
            ]
          },
          "metadata": {
            "tags": []
          },
          "execution_count": 35
        }
      ]
    },
    {
      "cell_type": "code",
      "metadata": {
        "colab": {
          "base_uri": "https://localhost:8080/"
        },
        "id": "LW3sr4kWTyze",
        "outputId": "a832dfad-ee1b-4771-b570-be02b286a640"
      },
      "source": [
        "langages[\"py\"] = \"Python\"\n",
        "langages[\"cpp\"] = \"C plus plus\"\n",
        "langages[\"js\"] = \"JavaScript\"\n",
        "langages[\"java\"] = \"go java\"\n",
        "langages"
      ],
      "execution_count": null,
      "outputs": [
        {
          "output_type": "execute_result",
          "data": {
            "text/plain": [
              "{'cpp': 'C plus plus', 'java': 'go java', 'js': 'JavaScript', 'py': 'Python'}"
            ]
          },
          "metadata": {
            "tags": []
          },
          "execution_count": 36
        }
      ]
    },
    {
      "cell_type": "code",
      "metadata": {
        "colab": {
          "base_uri": "https://localhost:8080/"
        },
        "id": "faa_TL_qU7ei",
        "outputId": "fe10477c-4082-4c73-b060-5e5ee9ff93ee"
      },
      "source": [
        "len(langages)"
      ],
      "execution_count": null,
      "outputs": [
        {
          "output_type": "execute_result",
          "data": {
            "text/plain": [
              "4"
            ]
          },
          "metadata": {
            "tags": []
          },
          "execution_count": 37
        }
      ]
    },
    {
      "cell_type": "code",
      "metadata": {
        "colab": {
          "base_uri": "https://localhost:8080/",
          "height": 35
        },
        "id": "iZBCtP5GVflw",
        "outputId": "6c94adb3-1334-4690-f22a-fe6c89154002"
      },
      "source": [
        "langages.get(\"cpp\")"
      ],
      "execution_count": null,
      "outputs": [
        {
          "output_type": "execute_result",
          "data": {
            "application/vnd.google.colaboratory.intrinsic+json": {
              "type": "string"
            },
            "text/plain": [
              "'C plus plus'"
            ]
          },
          "metadata": {
            "tags": []
          },
          "execution_count": 38
        }
      ]
    },
    {
      "cell_type": "code",
      "metadata": {
        "colab": {
          "base_uri": "https://localhost:8080/"
        },
        "id": "IB15Lny6WcrV",
        "outputId": "6651ac4a-659e-4a88-920b-e2bc89adf83b"
      },
      "source": [
        "langages.values()"
      ],
      "execution_count": null,
      "outputs": [
        {
          "output_type": "execute_result",
          "data": {
            "text/plain": [
              "dict_values(['Python', 'C plus plus', 'JavaScript', 'go java'])"
            ]
          },
          "metadata": {
            "tags": []
          },
          "execution_count": 39
        }
      ]
    },
    {
      "cell_type": "code",
      "metadata": {
        "colab": {
          "base_uri": "https://localhost:8080/"
        },
        "id": "u53cIwxVWsVq",
        "outputId": "5a81c074-e84f-4935-80a5-bb9d39b7248d"
      },
      "source": [
        "langages.keys()"
      ],
      "execution_count": null,
      "outputs": [
        {
          "output_type": "execute_result",
          "data": {
            "text/plain": [
              "dict_keys(['py', 'cpp', 'js', 'java'])"
            ]
          },
          "metadata": {
            "tags": []
          },
          "execution_count": 40
        }
      ]
    },
    {
      "cell_type": "code",
      "metadata": {
        "colab": {
          "base_uri": "https://localhost:8080/"
        },
        "id": "1VA3wO6oXjKh",
        "outputId": "946af147-20f9-456b-cd6a-c7726537f809"
      },
      "source": [
        "available_sum = 0\n",
        "transfer_amount = 50\n",
        "if available_sum >= 0:\n",
        "  print(\"available sum OK\")\n",
        "  if available_sum > transfer_amount:\n",
        "    print(\"Transfer OK\")\n",
        "  elif available_sum == transfer_amount:\n",
        "    print(\"Transfer will be studied \")\n",
        "  else:\n",
        "    print(\"not enough\")\n",
        "else:\n",
        "  print(\"Not possible\")"
      ],
      "execution_count": null,
      "outputs": [
        {
          "output_type": "stream",
          "text": [
            "available sum OK\n",
            "not enough\n"
          ],
          "name": "stdout"
        }
      ]
    },
    {
      "cell_type": "code",
      "metadata": {
        "colab": {
          "base_uri": "https://localhost:8080/"
        },
        "id": "6GdOevfqa4vn",
        "outputId": "784d41d7-722c-4e9b-df5a-c4ac7c4ed7ac"
      },
      "source": [
        "for c in cars:\n",
        "  print(c)"
      ],
      "execution_count": null,
      "outputs": [
        {
          "output_type": "stream",
          "text": [
            "Ford\n",
            "Volvo\n",
            "Renault\n",
            "Citroen\n",
            "Toyota\n",
            "Honda\n"
          ],
          "name": "stdout"
        }
      ]
    },
    {
      "cell_type": "code",
      "metadata": {
        "colab": {
          "base_uri": "https://localhost:8080/"
        },
        "id": "0mRIYumUegFB",
        "outputId": "d70cd18d-98cf-47b9-9d9e-7a90eded42a2"
      },
      "source": [
        "for i in range(1, 5):\n",
        "  print(i)"
      ],
      "execution_count": null,
      "outputs": [
        {
          "output_type": "stream",
          "text": [
            "1\n",
            "2\n",
            "3\n",
            "4\n"
          ],
          "name": "stdout"
        }
      ]
    },
    {
      "cell_type": "code",
      "metadata": {
        "colab": {
          "base_uri": "https://localhost:8080/"
        },
        "id": "BizQSaCbeqhP",
        "outputId": "c3e89910-5e33-4aea-e1f0-1a9f3a01db70"
      },
      "source": [
        "k = 0\n",
        "while len(cars) > k:\n",
        "  print(k,\" -- iteration : \" , langages)\n",
        "  k += 1"
      ],
      "execution_count": null,
      "outputs": [
        {
          "output_type": "stream",
          "text": [
            "0  -- iteration :  {'py': 'Python', 'cpp': 'C plus plus', 'js': 'JavaScript', 'java': 'go java'}\n",
            "1  -- iteration :  {'py': 'Python', 'cpp': 'C plus plus', 'js': 'JavaScript', 'java': 'go java'}\n",
            "2  -- iteration :  {'py': 'Python', 'cpp': 'C plus plus', 'js': 'JavaScript', 'java': 'go java'}\n",
            "3  -- iteration :  {'py': 'Python', 'cpp': 'C plus plus', 'js': 'JavaScript', 'java': 'go java'}\n",
            "4  -- iteration :  {'py': 'Python', 'cpp': 'C plus plus', 'js': 'JavaScript', 'java': 'go java'}\n",
            "5  -- iteration :  {'py': 'Python', 'cpp': 'C plus plus', 'js': 'JavaScript', 'java': 'go java'}\n"
          ],
          "name": "stdout"
        }
      ]
    },
    {
      "cell_type": "code",
      "metadata": {
        "colab": {
          "base_uri": "https://localhost:8080/"
        },
        "id": "lTO6y1QD4TJV",
        "outputId": "3be158bb-2796-4e5e-dfab-ea87c38a85e5"
      },
      "source": [
        "d = {'a': 0, 'b': 1, 'c': 0}\n",
        "\n",
        "if d['a'] > 0:\n",
        "    print('yeah !')\n",
        "elif d['b'] > 0:\n",
        "    print('yeah !')\n",
        "elif d['c'] > 0:\n",
        "    print('ok')\n",
        "elif d['d'] > 0:\n",
        "    print('ok')\n",
        "else:\n",
        "    print('not ok')\n"
      ],
      "execution_count": null,
      "outputs": [
        {
          "output_type": "stream",
          "text": [
            "yeah !\n"
          ],
          "name": "stdout"
        }
      ]
    },
    {
      "cell_type": "code",
      "metadata": {
        "id": "MsjA0nEH672j"
      },
      "source": [
        "import random as rand"
      ],
      "execution_count": null,
      "outputs": []
    },
    {
      "cell_type": "code",
      "metadata": {
        "colab": {
          "base_uri": "https://localhost:8080/"
        },
        "id": "E_RSe1-OKbku",
        "outputId": "01bbd4c3-3d36-4cfc-9583-a3da3c4b78d8"
      },
      "source": [
        "rand.randint(0, 100)"
      ],
      "execution_count": null,
      "outputs": [
        {
          "output_type": "execute_result",
          "data": {
            "text/plain": [
              "6"
            ]
          },
          "metadata": {
            "tags": []
          },
          "execution_count": 47
        }
      ]
    },
    {
      "cell_type": "code",
      "metadata": {
        "colab": {
          "base_uri": "https://localhost:8080/"
        },
        "id": "iqMAu59kKuwS",
        "outputId": "8d49b2a8-3736-4bbb-9691-9895775c78c8"
      },
      "source": [
        "rand.random()"
      ],
      "execution_count": null,
      "outputs": [
        {
          "output_type": "execute_result",
          "data": {
            "text/plain": [
              "0.835531899187989"
            ]
          },
          "metadata": {
            "tags": []
          },
          "execution_count": 48
        }
      ]
    },
    {
      "cell_type": "code",
      "metadata": {
        "id": "Rc817JbkLIlh",
        "colab": {
          "base_uri": "https://localhost:8080/"
        },
        "outputId": "3b6418b4-22b6-45d6-a9d4-5f2d71ff75be"
      },
      "source": [
        "rand.uniform(1, 4)"
      ],
      "execution_count": null,
      "outputs": [
        {
          "output_type": "execute_result",
          "data": {
            "text/plain": [
              "2.8819716379728217"
            ]
          },
          "metadata": {
            "tags": []
          },
          "execution_count": 49
        }
      ]
    },
    {
      "cell_type": "code",
      "metadata": {
        "colab": {
          "base_uri": "https://localhost:8080/"
        },
        "id": "vPUpYEBDLrlo",
        "outputId": "bf171a86-d695-47ef-d9b4-73d1c729da53"
      },
      "source": [
        "rand.randrange(100)"
      ],
      "execution_count": null,
      "outputs": [
        {
          "output_type": "execute_result",
          "data": {
            "text/plain": [
              "67"
            ]
          },
          "metadata": {
            "tags": []
          },
          "execution_count": 50
        }
      ]
    },
    {
      "cell_type": "code",
      "metadata": {
        "colab": {
          "base_uri": "https://localhost:8080/"
        },
        "id": "KhUzzL_6Mcyc",
        "outputId": "08ceb989-b9bf-464b-bda8-6be01009863e"
      },
      "source": [
        "color_tuple = (\"Red\", \"Green\", \"Blue\")\n",
        "color_tuple"
      ],
      "execution_count": null,
      "outputs": [
        {
          "output_type": "execute_result",
          "data": {
            "text/plain": [
              "('Red', 'Green', 'Blue')"
            ]
          },
          "metadata": {
            "tags": []
          },
          "execution_count": 51
        }
      ]
    },
    {
      "cell_type": "code",
      "metadata": {
        "colab": {
          "base_uri": "https://localhost:8080/"
        },
        "id": "yvDIDjhYQp_9",
        "outputId": "3f569c04-dd2a-40e2-af6c-038025c746a7"
      },
      "source": [
        "type(color_tuple)"
      ],
      "execution_count": null,
      "outputs": [
        {
          "output_type": "execute_result",
          "data": {
            "text/plain": [
              "tuple"
            ]
          },
          "metadata": {
            "tags": []
          },
          "execution_count": 52
        }
      ]
    },
    {
      "cell_type": "code",
      "metadata": {
        "colab": {
          "base_uri": "https://localhost:8080/"
        },
        "id": "7PX2ljqIFhYD",
        "outputId": "76a9b1a4-7cc2-4192-aed6-848834b26f58"
      },
      "source": [
        "print(color_tuple[0],color_tuple[-2],color_tuple[-1])"
      ],
      "execution_count": null,
      "outputs": [
        {
          "output_type": "stream",
          "text": [
            "Red Green Blue\n"
          ],
          "name": "stdout"
        }
      ]
    },
    {
      "cell_type": "code",
      "metadata": {
        "colab": {
          "base_uri": "https://localhost:8080/",
          "height": 164
        },
        "id": "YJv-8BSfFrdK",
        "outputId": "d1442ed0-9bf8-4e69-db49-a15adc36dbf3"
      },
      "source": [
        "color_tuple[1] = \"Yellow\" #tuple is immutable"
      ],
      "execution_count": null,
      "outputs": [
        {
          "output_type": "error",
          "ename": "TypeError",
          "evalue": "ignored",
          "traceback": [
            "\u001b[0;31m---------------------------------------------------------------------------\u001b[0m",
            "\u001b[0;31mTypeError\u001b[0m                                 Traceback (most recent call last)",
            "\u001b[0;32m<ipython-input-55-12e89932e9f9>\u001b[0m in \u001b[0;36m<module>\u001b[0;34m()\u001b[0m\n\u001b[0;32m----> 1\u001b[0;31m \u001b[0mcolor_tuple\u001b[0m\u001b[0;34m[\u001b[0m\u001b[0;36m1\u001b[0m\u001b[0;34m]\u001b[0m \u001b[0;34m=\u001b[0m \u001b[0;34m\"Yellow\"\u001b[0m \u001b[0;31m#tuple is immutable\u001b[0m\u001b[0;34m\u001b[0m\u001b[0;34m\u001b[0m\u001b[0m\n\u001b[0m",
            "\u001b[0;31mTypeError\u001b[0m: 'tuple' object does not support item assignment"
          ]
        }
      ]
    },
    {
      "cell_type": "code",
      "metadata": {
        "colab": {
          "base_uri": "https://localhost:8080/"
        },
        "id": "stkV5zNXIYwm",
        "outputId": "6364a369-5f50-4281-89c2-66c36647d0f8"
      },
      "source": [
        "t1 = \"Hello\"\n",
        "print(f'Adress of T1 : {id(t1)}')\n",
        "t1 = \"world\"\n",
        "print(f'Adress of T1 : {id(t1)}')"
      ],
      "execution_count": null,
      "outputs": [
        {
          "output_type": "stream",
          "text": [
            "Adress of T1 : 140673296486048\n",
            "Adress of T1 : 140673296483136\n"
          ],
          "name": "stdout"
        }
      ]
    },
    {
      "cell_type": "code",
      "metadata": {
        "colab": {
          "base_uri": "https://localhost:8080/",
          "height": 164
        },
        "id": "8e80ukkvHa7t",
        "outputId": "6a97418c-7b33-4813-e42b-f425da98048e"
      },
      "source": [
        "t1[2] = \"5\" #string is immutable"
      ],
      "execution_count": null,
      "outputs": [
        {
          "output_type": "error",
          "ename": "TypeError",
          "evalue": "ignored",
          "traceback": [
            "\u001b[0;31m---------------------------------------------------------------------------\u001b[0m",
            "\u001b[0;31mTypeError\u001b[0m                                 Traceback (most recent call last)",
            "\u001b[0;32m<ipython-input-57-7b94e8685f02>\u001b[0m in \u001b[0;36m<module>\u001b[0;34m()\u001b[0m\n\u001b[0;32m----> 1\u001b[0;31m \u001b[0mt1\u001b[0m\u001b[0;34m[\u001b[0m\u001b[0;36m2\u001b[0m\u001b[0;34m]\u001b[0m \u001b[0;34m=\u001b[0m \u001b[0;34m\"5\"\u001b[0m \u001b[0;31m#string is immutable\u001b[0m\u001b[0;34m\u001b[0m\u001b[0;34m\u001b[0m\u001b[0m\n\u001b[0m",
            "\u001b[0;31mTypeError\u001b[0m: 'str' object does not support item assignment"
          ]
        }
      ]
    },
    {
      "cell_type": "code",
      "metadata": {
        "colab": {
          "base_uri": "https://localhost:8080/"
        },
        "id": "rDsCqYlmJm1t",
        "outputId": "5e4bde7e-f3bb-4f92-c065-d153ad58c50e"
      },
      "source": [
        "(2.5).is_integer()"
      ],
      "execution_count": null,
      "outputs": [
        {
          "output_type": "execute_result",
          "data": {
            "text/plain": [
              "False"
            ]
          },
          "metadata": {
            "tags": []
          },
          "execution_count": 58
        }
      ]
    },
    {
      "cell_type": "code",
      "metadata": {
        "colab": {
          "base_uri": "https://localhost:8080/"
        },
        "id": "wllY087bNVqg",
        "outputId": "2f24c9bb-1b72-4c55-c30d-0450e2c85851"
      },
      "source": [
        "cars"
      ],
      "execution_count": null,
      "outputs": [
        {
          "output_type": "execute_result",
          "data": {
            "text/plain": [
              "['Ford', 'Volvo', 'Renault', 'Citroen', 'Toyota', 'Honda']"
            ]
          },
          "metadata": {
            "tags": []
          },
          "execution_count": 59
        }
      ]
    },
    {
      "cell_type": "code",
      "metadata": {
        "colab": {
          "base_uri": "https://localhost:8080/"
        },
        "id": "mRaC8hY8Ntx8",
        "outputId": "c4596a3a-31e7-46d2-a172-f2ea9c9b4186"
      },
      "source": [
        "cars[:]"
      ],
      "execution_count": null,
      "outputs": [
        {
          "output_type": "execute_result",
          "data": {
            "text/plain": [
              "['Ford', 'Volvo', 'Renault', 'Citroen', 'Toyota', 'Honda']"
            ]
          },
          "metadata": {
            "tags": []
          },
          "execution_count": 60
        }
      ]
    },
    {
      "cell_type": "code",
      "metadata": {
        "colab": {
          "base_uri": "https://localhost:8080/"
        },
        "id": "GGM590LvOjyJ",
        "outputId": "20e6d027-cc7f-4ba8-ea78-056764b1d6ec"
      },
      "source": [
        "cars[-2::2]"
      ],
      "execution_count": null,
      "outputs": [
        {
          "output_type": "execute_result",
          "data": {
            "text/plain": [
              "['Toyota']"
            ]
          },
          "metadata": {
            "tags": []
          },
          "execution_count": 63
        }
      ]
    },
    {
      "cell_type": "code",
      "metadata": {
        "id": "aO8Ikkk8OnX4"
      },
      "source": [
        "import requests"
      ],
      "execution_count": null,
      "outputs": []
    },
    {
      "cell_type": "code",
      "metadata": {
        "id": "2Qs4FHXEQIMk"
      },
      "source": [
        "r1 = requests.get('https://api.github.com/users/sghenimi')"
      ],
      "execution_count": null,
      "outputs": []
    },
    {
      "cell_type": "code",
      "metadata": {
        "id": "jYpGmA2pQN-L"
      },
      "source": [
        "#r1.json()"
      ],
      "execution_count": null,
      "outputs": []
    },
    {
      "cell_type": "code",
      "metadata": {
        "id": "eUZcrUGeQPuj"
      },
      "source": [
        "r2 = requests.get('https://api.github.com/users/sghenimi/repos')"
      ],
      "execution_count": null,
      "outputs": []
    },
    {
      "cell_type": "code",
      "metadata": {
        "colab": {
          "base_uri": "https://localhost:8080/"
        },
        "id": "-jiHEW7hU4zr",
        "outputId": "b88a492e-43fe-49b8-a8c2-ccaefbf8bf6e"
      },
      "source": [
        "numberrepos = len(r2.json())\n",
        "numberrepos"
      ],
      "execution_count": null,
      "outputs": [
        {
          "output_type": "execute_result",
          "data": {
            "text/plain": [
              "15"
            ]
          },
          "metadata": {
            "tags": []
          },
          "execution_count": 89
        }
      ]
    },
    {
      "cell_type": "code",
      "metadata": {
        "colab": {
          "base_uri": "https://localhost:8080/"
        },
        "id": "NmirZY6RU8Gy",
        "outputId": "3a8e1ba0-6470-4e11-c40d-e651d7f9ef62"
      },
      "source": [
        "\n",
        "for i in range(numberrepos):\n",
        "  print(r2.json()[i][\"name\"])"
      ],
      "execution_count": null,
      "outputs": [
        {
          "output_type": "stream",
          "text": [
            "camp-scala\n",
            "CI-CD-jenkins\n",
            "demo_talend\n",
            "docker-spark\n",
            "flask-machine-learning-app\n",
            "JustEnoughScalaForSpark\n",
            "labs\n",
            "MUST\n",
            "openclassroom\n",
            "preuves\n",
            "pylibs\n",
            "R-libs\n",
            "ScratchML\n",
            "sghenimi.github.io\n",
            "weather-api-demo\n"
          ],
          "name": "stdout"
        }
      ]
    },
    {
      "cell_type": "code",
      "metadata": {
        "id": "7d2JlEBRVR65"
      },
      "source": [
        "import matplotlib.pyplot as plt"
      ],
      "execution_count": null,
      "outputs": []
    },
    {
      "cell_type": "code",
      "metadata": {
        "colab": {
          "base_uri": "https://localhost:8080/",
          "height": 51
        },
        "id": "KKnek3ZbZt_k",
        "outputId": "3d2d71bb-f675-4866-ed6e-21b5c8595852"
      },
      "source": [
        "plt.figure()"
      ],
      "execution_count": null,
      "outputs": [
        {
          "output_type": "execute_result",
          "data": {
            "text/plain": [
              "<Figure size 432x288 with 0 Axes>"
            ]
          },
          "metadata": {
            "tags": []
          },
          "execution_count": 94
        },
        {
          "output_type": "display_data",
          "data": {
            "text/plain": [
              "<Figure size 432x288 with 0 Axes>"
            ]
          },
          "metadata": {
            "tags": []
          }
        }
      ]
    },
    {
      "cell_type": "code",
      "metadata": {
        "colab": {
          "base_uri": "https://localhost:8080/",
          "height": 265
        },
        "id": "maEd3JX7ZwYg",
        "outputId": "2c1ea01b-7758-4997-f9e7-2c5b751b97cf"
      },
      "source": [
        "plt.plot([1, 2, 3, 4, 5])\n",
        "plt.show()"
      ],
      "execution_count": null,
      "outputs": [
        {
          "output_type": "display_data",
          "data": {
            "image/png": "[encoded data removed]",
            "text/plain": [
              "<Figure size 432x288 with 1 Axes>"
            ]
          },
          "metadata": {
            "tags": [],
            "needs_background": "light"
          }
        }
      ]
    },
    {
      "cell_type": "code",
      "metadata": {
        "id": "t9JjkEnRZ5h_"
      },
      "source": [
        "\n",
        "def two_sum(nums, target):\n",
        "    outidx = []\n",
        "    i = 1\n",
        "    lgnums = len(nums) -1\n",
        "    i = 0\n",
        "    for i in range(0, lgnums):\n",
        "        if nums[i] <= target:\n",
        "            outidx.append(i)\n",
        "            target0 = target - nums[i]\n",
        "            try:\n",
        "              outidx.append(nums.index(target0, i+1, lgnums))\n",
        "              break\n",
        "            except ValueError:\n",
        "              break   \n",
        "        else:\n",
        "          print(\"passage next\")\n",
        "          continue\n",
        "    \n",
        "    return outidx"
      ],
      "execution_count": null,
      "outputs": []
    },
    {
      "cell_type": "code",
      "metadata": {
        "colab": {
          "base_uri": "https://localhost:8080/"
        },
        "id": "L5Q-Yn1_OGCQ",
        "outputId": "27d39fb2-4714-435b-ff84-c1925b25f434"
      },
      "source": [
        "nums1 = [3, 2, 4]\n",
        "target1 = 9\n",
        "two_sum(nums1, target1)"
      ],
      "execution_count": null,
      "outputs": [
        {
          "output_type": "execute_result",
          "data": {
            "text/plain": [
              "[0]"
            ]
          },
          "metadata": {
            "tags": []
          },
          "execution_count": 22
        }
      ]
    },
    {
      "cell_type": "code",
      "metadata": {
        "id": "yzLv1S9RORXk",
        "colab": {
          "base_uri": "https://localhost:8080/"
        },
        "outputId": "69b93132-c588-417e-8203-18ba449b9994"
      },
      "source": [
        "it = iter([1, 4, 6, 9])\n",
        "it"
      ],
      "execution_count": null,
      "outputs": [
        {
          "output_type": "execute_result",
          "data": {
            "text/plain": [
              "<list_iterator at 0x7f1fb04e8438>"
            ]
          },
          "metadata": {
            "tags": []
          },
          "execution_count": 15
        }
      ]
    },
    {
      "cell_type": "code",
      "metadata": {
        "colab": {
          "base_uri": "https://localhost:8080/",
          "height": 266
        },
        "id": "zeLrpuRpLV6h",
        "outputId": "f216ea7d-db54-421e-8c71-d4f786321da5"
      },
      "source": [
        "print(next(it))\n",
        "print(next(it))\n",
        "print(next(it))\n",
        "print(next(it))\n",
        "print(next(it))"
      ],
      "execution_count": null,
      "outputs": [
        {
          "output_type": "stream",
          "text": [
            "1\n",
            "4\n",
            "6\n",
            "9\n"
          ],
          "name": "stdout"
        },
        {
          "output_type": "error",
          "ename": "StopIteration",
          "evalue": "ignored",
          "traceback": [
            "\u001b[0;31m---------------------------------------------------------------------------\u001b[0m",
            "\u001b[0;31mStopIteration\u001b[0m                             Traceback (most recent call last)",
            "\u001b[0;32m<ipython-input-16-6ced74e2ed96>\u001b[0m in \u001b[0;36m<module>\u001b[0;34m()\u001b[0m\n\u001b[1;32m      3\u001b[0m \u001b[0mprint\u001b[0m\u001b[0;34m(\u001b[0m\u001b[0mnext\u001b[0m\u001b[0;34m(\u001b[0m\u001b[0mit\u001b[0m\u001b[0;34m)\u001b[0m\u001b[0;34m)\u001b[0m\u001b[0;34m\u001b[0m\u001b[0;34m\u001b[0m\u001b[0m\n\u001b[1;32m      4\u001b[0m \u001b[0mprint\u001b[0m\u001b[0;34m(\u001b[0m\u001b[0mnext\u001b[0m\u001b[0;34m(\u001b[0m\u001b[0mit\u001b[0m\u001b[0;34m)\u001b[0m\u001b[0;34m)\u001b[0m\u001b[0;34m\u001b[0m\u001b[0;34m\u001b[0m\u001b[0m\n\u001b[0;32m----> 5\u001b[0;31m \u001b[0mprint\u001b[0m\u001b[0;34m(\u001b[0m\u001b[0mnext\u001b[0m\u001b[0;34m(\u001b[0m\u001b[0mit\u001b[0m\u001b[0;34m)\u001b[0m\u001b[0;34m)\u001b[0m\u001b[0;34m\u001b[0m\u001b[0;34m\u001b[0m\u001b[0m\n\u001b[0m",
            "\u001b[0;31mStopIteration\u001b[0m: "
          ]
        }
      ]
    },
    {
      "cell_type": "code",
      "metadata": {
        "colab": {
          "base_uri": "https://localhost:8080/",
          "height": 164
        },
        "id": "kzf6pks6LeaN",
        "outputId": "b330dd5d-acf5-49ac-f610-c36c21f49ed9"
      },
      "source": [
        "next(it)"
      ],
      "execution_count": null,
      "outputs": [
        {
          "output_type": "error",
          "ename": "StopIteration",
          "evalue": "ignored",
          "traceback": [
            "\u001b[0;31m---------------------------------------------------------------------------\u001b[0m",
            "\u001b[0;31mStopIteration\u001b[0m                             Traceback (most recent call last)",
            "\u001b[0;32m<ipython-input-14-bc1ab118995a>\u001b[0m in \u001b[0;36m<module>\u001b[0;34m()\u001b[0m\n\u001b[0;32m----> 1\u001b[0;31m \u001b[0mnext\u001b[0m\u001b[0;34m(\u001b[0m\u001b[0mit\u001b[0m\u001b[0;34m)\u001b[0m\u001b[0;34m\u001b[0m\u001b[0;34m\u001b[0m\u001b[0m\n\u001b[0m",
            "\u001b[0;31mStopIteration\u001b[0m: "
          ]
        }
      ]
    }
  ]
}