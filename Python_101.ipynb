{
  "nbformat": 4,
  "nbformat_minor": 0,
  "metadata": {
    "colab": {
      "name": "Python 101.ipynb",
      "provenance": [],
      "collapsed_sections": [],
      "authorship_tag": "ABX9TyOtxYWM+HaHmSAEI15qGPk5",
      "include_colab_link": true
    },
    "kernelspec": {
      "name": "python3",
      "display_name": "Python 3"
    }
  },
  "cells": [
    {
      "cell_type": "markdown",
      "metadata": {
        "id": "view-in-github",
        "colab_type": "text"
      },
      "source": [
        "<a href=\"https://colab.research.google.com/github/sghenimi/pylibs/blob/master/Python_101.ipynb\" target=\"_parent\"><img src=\"https://colab.research.google.com/assets/colab-badge.svg\" alt=\"Open In Colab\"/></a>"
      ]
    },
    {
      "cell_type": "code",
      "metadata": {
        "id": "RsE0mPBu_yRz"
      },
      "source": [
        "new_year = 2021"
      ],
      "execution_count": null,
      "outputs": []
    },
    {
      "cell_type": "code",
      "metadata": {
        "id": "zSXcr6a9ABF7"
      },
      "source": [
        "last_year = 2020"
      ],
      "execution_count": null,
      "outputs": []
    },
    {
      "cell_type": "code",
      "metadata": {
        "colab": {
          "base_uri": "https://localhost:8080/"
        },
        "id": "eVrWDRtVAPo3",
        "outputId": "6e104d91-6250-4f30-9819-fe476ddb1e8e"
      },
      "source": [
        "type(last_year/2)"
      ],
      "execution_count": null,
      "outputs": [
        {
          "output_type": "execute_result",
          "data": {
            "text/plain": [
              "float"
            ]
          },
          "metadata": {
            "tags": []
          },
          "execution_count": 3
        }
      ]
    },
    {
      "cell_type": "code",
      "metadata": {
        "colab": {
          "base_uri": "https://localhost:8080/"
        },
        "id": "HUfJNQKzAX9j",
        "outputId": "ba05d3d5-a590-4810-9447-81a75bca0bcc"
      },
      "source": [
        "type(new_year//2)"
      ],
      "execution_count": null,
      "outputs": [
        {
          "output_type": "execute_result",
          "data": {
            "text/plain": [
              "int"
            ]
          },
          "metadata": {
            "tags": []
          },
          "execution_count": 4
        }
      ]
    },
    {
      "cell_type": "code",
      "metadata": {
        "id": "gGn7RZ9xAk69",
        "colab": {
          "base_uri": "https://localhost:8080/"
        },
        "outputId": "202b8b35-f654-46bc-8cc4-f629c8338191"
      },
      "source": [
        "new_year//2"
      ],
      "execution_count": null,
      "outputs": [
        {
          "output_type": "execute_result",
          "data": {
            "text/plain": [
              "1010"
            ]
          },
          "metadata": {
            "tags": []
          },
          "execution_count": 5
        }
      ]
    },
    {
      "cell_type": "code",
      "metadata": {
        "colab": {
          "base_uri": "https://localhost:8080/"
        },
        "id": "7XdWVNA2_zqH",
        "outputId": "19f98ccc-f422-4a03-f062-7ade6fa07b1b"
      },
      "source": [
        "type(new_year)"
      ],
      "execution_count": null,
      "outputs": [
        {
          "output_type": "execute_result",
          "data": {
            "text/plain": [
              "int"
            ]
          },
          "metadata": {
            "tags": []
          },
          "execution_count": 9
        }
      ]
    },
    {
      "cell_type": "code",
      "metadata": {
        "id": "ldfFn8K19XhV"
      },
      "source": [
        "toto = \"Hello Toto\""
      ],
      "execution_count": null,
      "outputs": []
    },
    {
      "cell_type": "code",
      "metadata": {
        "colab": {
          "base_uri": "https://localhost:8080/"
        },
        "id": "iWkQZk9T9wFZ",
        "outputId": "fb0f85cf-c527-477c-961c-7cff3858a564"
      },
      "source": [
        "type(toto)"
      ],
      "execution_count": null,
      "outputs": [
        {
          "output_type": "execute_result",
          "data": {
            "text/plain": [
              "str"
            ]
          },
          "metadata": {
            "tags": []
          },
          "execution_count": 11
        }
      ]
    },
    {
      "cell_type": "code",
      "metadata": {
        "id": "0yzh-VPy97ye"
      },
      "source": [
        "nostr = \"\""
      ],
      "execution_count": null,
      "outputs": []
    },
    {
      "cell_type": "code",
      "metadata": {
        "id": "A1YqbyR_-KrF"
      },
      "source": [
        "def calcul_perimetre(cote1, cote2, cote3):\n",
        "  return cote1 + cote2 + cote3"
      ],
      "execution_count": null,
      "outputs": []
    },
    {
      "cell_type": "code",
      "metadata": {
        "colab": {
          "base_uri": "https://localhost:8080/"
        },
        "id": "MJrS1JBTB4YA",
        "outputId": "eca6dda7-3f58-4c1a-ee04-9d2aec0c0223"
      },
      "source": [
        "calcul_perimetre(2, 4, 1)"
      ],
      "execution_count": null,
      "outputs": [
        {
          "output_type": "execute_result",
          "data": {
            "text/plain": [
              "7"
            ]
          },
          "metadata": {
            "tags": []
          },
          "execution_count": 14
        }
      ]
    },
    {
      "cell_type": "code",
      "metadata": {
        "colab": {
          "base_uri": "https://localhost:8080/"
        },
        "id": "DXAcAtAdB_He",
        "outputId": "caf6d715-b955-4382-ce3f-96b98bf01c23"
      },
      "source": [
        "print(\"Le triagle a un périmetre de :\",  calcul_perimetre(3, 6, 7)) "
      ],
      "execution_count": null,
      "outputs": [
        {
          "output_type": "stream",
          "text": [
            "Le triagle a un périmetre de : 16\n"
          ],
          "name": "stdout"
        }
      ]
    },
    {
      "cell_type": "code",
      "metadata": {
        "colab": {
          "base_uri": "https://localhost:8080/",
          "height": 35
        },
        "id": "3xItS4IaCZyN",
        "outputId": "be802b78-03b6-4f4b-e8b4-0cbeafe82724"
      },
      "source": [
        "\"today is monday\".capitalize()"
      ],
      "execution_count": null,
      "outputs": [
        {
          "output_type": "execute_result",
          "data": {
            "application/vnd.google.colaboratory.intrinsic+json": {
              "type": "string"
            },
            "text/plain": [
              "'Today is monday'"
            ]
          },
          "metadata": {
            "tags": []
          },
          "execution_count": 17
        }
      ]
    },
    {
      "cell_type": "code",
      "metadata": {
        "colab": {
          "base_uri": "https://localhost:8080/",
          "height": 35
        },
        "id": "7KpD-KbzFp0x",
        "outputId": "1c831d63-1ddf-4330-d1b2-3e2352ec9c5a"
      },
      "source": [
        "\"today is manday\".replace(\"an\", \"on\")"
      ],
      "execution_count": null,
      "outputs": [
        {
          "output_type": "execute_result",
          "data": {
            "application/vnd.google.colaboratory.intrinsic+json": {
              "type": "string"
            },
            "text/plain": [
              "'today is monday'"
            ]
          },
          "metadata": {
            "tags": []
          },
          "execution_count": 20
        }
      ]
    },
    {
      "cell_type": "code",
      "metadata": {
        "id": "E2ZbOXjIFwcp"
      },
      "source": [
        "from datetime import date as d"
      ],
      "execution_count": null,
      "outputs": []
    },
    {
      "cell_type": "code",
      "metadata": {
        "colab": {
          "base_uri": "https://localhost:8080/"
        },
        "id": "yo_rwqpSGIuI",
        "outputId": "84a44088-ceaa-4d20-d221-116ca0c7536d"
      },
      "source": [
        "d.today()"
      ],
      "execution_count": null,
      "outputs": [
        {
          "output_type": "execute_result",
          "data": {
            "text/plain": [
              "datetime.date(2021, 2, 1)"
            ]
          },
          "metadata": {
            "tags": []
          },
          "execution_count": 27
        }
      ]
    },
    {
      "cell_type": "code",
      "metadata": {
        "id": "WpFLmACbG9AV"
      },
      "source": [
        "corona_date = [2019, 2020, 2021]"
      ],
      "execution_count": null,
      "outputs": []
    },
    {
      "cell_type": "code",
      "metadata": {
        "colab": {
          "base_uri": "https://localhost:8080/"
        },
        "id": "zfIcvTPxQLBu",
        "outputId": "f5ddce23-b77e-464b-e267-85529e79420f"
      },
      "source": [
        "print(corona_date[2])"
      ],
      "execution_count": null,
      "outputs": [
        {
          "output_type": "execute_result",
          "data": {
            "text/plain": [
              "2021"
            ]
          },
          "metadata": {
            "tags": []
          },
          "execution_count": 30
        }
      ]
    },
    {
      "cell_type": "code",
      "metadata": {
        "id": "I65MDfNwQOwq"
      },
      "source": [
        "cars = [\"BMW\", \"Volvo\", \"Renault\", \"Citroen\", \"Peugeot\"]"
      ],
      "execution_count": null,
      "outputs": []
    },
    {
      "cell_type": "code",
      "metadata": {
        "id": "HIHM2rVdRR7g"
      },
      "source": [
        "cars.append(\"Opel\")"
      ],
      "execution_count": null,
      "outputs": []
    },
    {
      "cell_type": "code",
      "metadata": {
        "colab": {
          "base_uri": "https://localhost:8080/"
        },
        "id": "nicHLGSuRciH",
        "outputId": "4c3ff486-d1c3-4dbc-b4fc-a6b98240549e"
      },
      "source": [
        "cars"
      ],
      "execution_count": null,
      "outputs": [
        {
          "output_type": "execute_result",
          "data": {
            "text/plain": [
              "['BMW', 'Volvo', 'Renault', 'Citroen', 'Peugeot', 'Opel']"
            ]
          },
          "metadata": {
            "tags": []
          },
          "execution_count": 34
        }
      ]
    },
    {
      "cell_type": "code",
      "metadata": {
        "colab": {
          "base_uri": "https://localhost:8080/",
          "height": 35
        },
        "id": "hg8_nCp-ReC_",
        "outputId": "18c58dec-defa-463d-a794-8a0be607d20c"
      },
      "source": [
        "cars.pop()"
      ],
      "execution_count": null,
      "outputs": [
        {
          "output_type": "execute_result",
          "data": {
            "application/vnd.google.colaboratory.intrinsic+json": {
              "type": "string"
            },
            "text/plain": [
              "'Opel'"
            ]
          },
          "metadata": {
            "tags": []
          },
          "execution_count": 35
        }
      ]
    },
    {
      "cell_type": "code",
      "metadata": {
        "colab": {
          "base_uri": "https://localhost:8080/"
        },
        "id": "YWpuQiLHRh0-",
        "outputId": "1b084f5a-0fcd-42e6-9348-df3e49dc22b9"
      },
      "source": [
        "cars"
      ],
      "execution_count": null,
      "outputs": [
        {
          "output_type": "execute_result",
          "data": {
            "text/plain": [
              "['BMW', 'Volvo', 'Renault', 'Citroen', 'Peugeot']"
            ]
          },
          "metadata": {
            "tags": []
          },
          "execution_count": 36
        }
      ]
    },
    {
      "cell_type": "code",
      "metadata": {
        "id": "0Qw6Qo25Rjc-"
      },
      "source": [
        "cars.insert(0, \"Ford\")"
      ],
      "execution_count": null,
      "outputs": []
    },
    {
      "cell_type": "code",
      "metadata": {
        "id": "cP2_b2NERv02"
      },
      "source": [
        "cars.remove(\"Peugeot\")"
      ],
      "execution_count": null,
      "outputs": []
    },
    {
      "cell_type": "code",
      "metadata": {
        "colab": {
          "base_uri": "https://localhost:8080/"
        },
        "id": "irrWz_vBSCA9",
        "outputId": "3c91954a-5c68-48fb-be96-1819b402be81"
      },
      "source": [
        "cars"
      ],
      "execution_count": null,
      "outputs": [
        {
          "output_type": "execute_result",
          "data": {
            "text/plain": [
              "['Ford', 'BMW', 'Volvo', 'Renault', 'Citroen']"
            ]
          },
          "metadata": {
            "tags": []
          },
          "execution_count": 42
        }
      ]
    },
    {
      "cell_type": "code",
      "metadata": {
        "colab": {
          "base_uri": "https://localhost:8080/"
        },
        "id": "-AK7QIJDSYW0",
        "outputId": "0cccc5db-76c4-4c7e-b39d-cd3b094ac632"
      },
      "source": [
        "cars.index(\"Volvo\")"
      ],
      "execution_count": null,
      "outputs": [
        {
          "output_type": "execute_result",
          "data": {
            "text/plain": [
              "2"
            ]
          },
          "metadata": {
            "tags": []
          },
          "execution_count": 45
        }
      ]
    },
    {
      "cell_type": "code",
      "metadata": {
        "id": "tadwykrYSf2r"
      },
      "source": [
        "cars.extend([\"Toyota\", \"Honda\"])"
      ],
      "execution_count": null,
      "outputs": []
    },
    {
      "cell_type": "code",
      "metadata": {
        "colab": {
          "base_uri": "https://localhost:8080/"
        },
        "id": "uFmPilGUSzci",
        "outputId": "ac4cbaef-89f0-4fef-be06-02377f9ac1db"
      },
      "source": [
        "cars"
      ],
      "execution_count": null,
      "outputs": [
        {
          "output_type": "execute_result",
          "data": {
            "text/plain": [
              "['Ford', 'BMW', 'Volvo', 'Renault', 'Citroen', 'Toyota', 'Honda']"
            ]
          },
          "metadata": {
            "tags": []
          },
          "execution_count": 47
        }
      ]
    },
    {
      "cell_type": "code",
      "metadata": {
        "id": "cghxudBIS0Li"
      },
      "source": [
        "del cars[1]"
      ],
      "execution_count": null,
      "outputs": []
    },
    {
      "cell_type": "code",
      "metadata": {
        "colab": {
          "base_uri": "https://localhost:8080/"
        },
        "id": "LANGjKPlS8xq",
        "outputId": "a6a71daf-de90-40e6-823d-0e1155c29b24"
      },
      "source": [
        "print(cars)"
      ],
      "execution_count": null,
      "outputs": [
        {
          "output_type": "stream",
          "text": [
            "['Ford', 'Volvo', 'Renault', 'Citroen', 'Toyota', 'Honda']\n"
          ],
          "name": "stdout"
        }
      ]
    },
    {
      "cell_type": "code",
      "metadata": {
        "colab": {
          "base_uri": "https://localhost:8080/"
        },
        "id": "VGl5mTLMTBSx",
        "outputId": "e0845d9d-a2db-4f93-c8d6-248e24aca39a"
      },
      "source": [
        "print(len(cars))"
      ],
      "execution_count": null,
      "outputs": [
        {
          "output_type": "stream",
          "text": [
            "6\n"
          ],
          "name": "stdout"
        }
      ]
    },
    {
      "cell_type": "code",
      "metadata": {
        "colab": {
          "base_uri": "https://localhost:8080/"
        },
        "id": "t6HyvHWhTuxk",
        "outputId": "cac37206-4b0e-41c8-b8d8-f8cf86ccab23"
      },
      "source": [
        "type(cars)"
      ],
      "execution_count": null,
      "outputs": [
        {
          "output_type": "execute_result",
          "data": {
            "text/plain": [
              "list"
            ]
          },
          "metadata": {
            "tags": []
          },
          "execution_count": 53
        }
      ]
    },
    {
      "cell_type": "code",
      "metadata": {
        "id": "_Nvb7SOATIFB"
      },
      "source": [
        "langages = {}"
      ],
      "execution_count": null,
      "outputs": []
    },
    {
      "cell_type": "code",
      "metadata": {
        "colab": {
          "base_uri": "https://localhost:8080/"
        },
        "id": "FqcsUQLhTtGm",
        "outputId": "6997843f-d504-44b6-ce38-b52ecd530e57"
      },
      "source": [
        "type(langages)"
      ],
      "execution_count": null,
      "outputs": [
        {
          "output_type": "execute_result",
          "data": {
            "text/plain": [
              "dict"
            ]
          },
          "metadata": {
            "tags": []
          },
          "execution_count": 54
        }
      ]
    },
    {
      "cell_type": "code",
      "metadata": {
        "colab": {
          "base_uri": "https://localhost:8080/"
        },
        "id": "LW3sr4kWTyze",
        "outputId": "74c3e291-4f78-46f4-9e36-4e44e1d0def7"
      },
      "source": [
        "langages[\"py\"] = \"Python\"\n",
        "langages[\"cpp\"] = \"C plus plus\"\n",
        "langages[\"js\"] = \"JavaScript\"\n",
        "langages[\"java\"] = \"go java\"\n",
        "langages"
      ],
      "execution_count": null,
      "outputs": [
        {
          "output_type": "execute_result",
          "data": {
            "text/plain": [
              "{'cpp': 'C plus plus', 'java': 'go java', 'js': 'JavaScript', 'py': 'Python'}"
            ]
          },
          "metadata": {
            "tags": []
          },
          "execution_count": 56
        }
      ]
    },
    {
      "cell_type": "code",
      "metadata": {
        "colab": {
          "base_uri": "https://localhost:8080/"
        },
        "id": "faa_TL_qU7ei",
        "outputId": "d1f428f8-a9dd-4cad-9b4f-691f884e52e8"
      },
      "source": [
        "len(langages)"
      ],
      "execution_count": null,
      "outputs": [
        {
          "output_type": "execute_result",
          "data": {
            "text/plain": [
              "4"
            ]
          },
          "metadata": {
            "tags": []
          },
          "execution_count": 57
        }
      ]
    },
    {
      "cell_type": "code",
      "metadata": {
        "colab": {
          "base_uri": "https://localhost:8080/",
          "height": 35
        },
        "id": "iZBCtP5GVflw",
        "outputId": "410baa85-f6c0-46a4-b3ba-169ae450a95f"
      },
      "source": [
        "langages.get(\"cpp\")"
      ],
      "execution_count": null,
      "outputs": [
        {
          "output_type": "execute_result",
          "data": {
            "application/vnd.google.colaboratory.intrinsic+json": {
              "type": "string"
            },
            "text/plain": [
              "'C plus plus'"
            ]
          },
          "metadata": {
            "tags": []
          },
          "execution_count": 59
        }
      ]
    },
    {
      "cell_type": "code",
      "metadata": {
        "colab": {
          "base_uri": "https://localhost:8080/"
        },
        "id": "IB15Lny6WcrV",
        "outputId": "ac923bb5-3c5d-4c0c-e83b-5e6b1e8ee2ee"
      },
      "source": [
        "langages.values()"
      ],
      "execution_count": null,
      "outputs": [
        {
          "output_type": "execute_result",
          "data": {
            "text/plain": [
              "dict_values(['Python', 'C plus plus', 'JavaScript', 'go java'])"
            ]
          },
          "metadata": {
            "tags": []
          },
          "execution_count": 71
        }
      ]
    },
    {
      "cell_type": "code",
      "metadata": {
        "colab": {
          "base_uri": "https://localhost:8080/"
        },
        "id": "u53cIwxVWsVq",
        "outputId": "2bf611e8-408c-4d56-b557-fa5b7f7ae382"
      },
      "source": [
        "langages.keys()"
      ],
      "execution_count": null,
      "outputs": [
        {
          "output_type": "execute_result",
          "data": {
            "text/plain": [
              "dict_keys(['py', 'cpp', 'js', 'java'])"
            ]
          },
          "metadata": {
            "tags": []
          },
          "execution_count": 73
        }
      ]
    },
    {
      "cell_type": "code",
      "metadata": {
        "colab": {
          "base_uri": "https://localhost:8080/"
        },
        "id": "1VA3wO6oXjKh",
        "outputId": "2bf56c16-6fd0-48c5-f1cf-2a5bc2f1b7aa"
      },
      "source": [
        "available_sum = 0\n",
        "transfer_amount = 50\n",
        "if available_sum >= 0:\n",
        "  print(\"available sum OK\")\n",
        "  if available_sum > transfer_amount:\n",
        "    print(\"Transfer OK\")\n",
        "  elif available_sum == transfer_amount:\n",
        "    print(\"Transfer will be studied \")\n",
        "  else:\n",
        "    print(\"not enough\")\n",
        "else:\n",
        "  print(\"Not possible\")"
      ],
      "execution_count": null,
      "outputs": [
        {
          "output_type": "stream",
          "text": [
            "available sum OK\n",
            "not enough\n"
          ],
          "name": "stdout"
        }
      ]
    },
    {
      "cell_type": "code",
      "metadata": {
        "colab": {
          "base_uri": "https://localhost:8080/"
        },
        "id": "6GdOevfqa4vn",
        "outputId": "91fd7f02-ae77-467e-9297-3de2fab030de"
      },
      "source": [
        "for c in cars:\n",
        "  print(c)"
      ],
      "execution_count": null,
      "outputs": [
        {
          "output_type": "stream",
          "text": [
            "Ford\n",
            "Volvo\n",
            "Renault\n",
            "Citroen\n",
            "Toyota\n",
            "Honda\n"
          ],
          "name": "stdout"
        }
      ]
    },
    {
      "cell_type": "code",
      "metadata": {
        "colab": {
          "base_uri": "https://localhost:8080/"
        },
        "id": "0mRIYumUegFB",
        "outputId": "1f467ee7-bd5a-4419-977d-d6cea46ab25c"
      },
      "source": [
        "for i in range(1, 5):\n",
        "  print(i)"
      ],
      "execution_count": null,
      "outputs": [
        {
          "output_type": "stream",
          "text": [
            "1\n",
            "2\n",
            "3\n",
            "4\n"
          ],
          "name": "stdout"
        }
      ]
    },
    {
      "cell_type": "code",
      "metadata": {
        "colab": {
          "base_uri": "https://localhost:8080/"
        },
        "id": "BizQSaCbeqhP",
        "outputId": "1c1400ed-6ca4-4a30-c29b-2aa6bd676a12"
      },
      "source": [
        "k = 0\n",
        "while len(cars) > k:\n",
        "  print(k,\" -- iteration : \" , langages)\n",
        "  k += 1"
      ],
      "execution_count": null,
      "outputs": [
        {
          "output_type": "stream",
          "text": [
            "0  -- iteration :  {'py': 'Python', 'cpp': 'C plus plus', 'js': 'JavaScript', 'java': 'go java'}\n",
            "1  -- iteration :  {'py': 'Python', 'cpp': 'C plus plus', 'js': 'JavaScript', 'java': 'go java'}\n",
            "2  -- iteration :  {'py': 'Python', 'cpp': 'C plus plus', 'js': 'JavaScript', 'java': 'go java'}\n",
            "3  -- iteration :  {'py': 'Python', 'cpp': 'C plus plus', 'js': 'JavaScript', 'java': 'go java'}\n",
            "4  -- iteration :  {'py': 'Python', 'cpp': 'C plus plus', 'js': 'JavaScript', 'java': 'go java'}\n",
            "5  -- iteration :  {'py': 'Python', 'cpp': 'C plus plus', 'js': 'JavaScript', 'java': 'go java'}\n"
          ],
          "name": "stdout"
        }
      ]
    },
    {
      "cell_type": "code",
      "metadata": {
        "colab": {
          "base_uri": "https://localhost:8080/"
        },
        "id": "lTO6y1QD4TJV",
        "outputId": "0ad09b98-760f-4c29-fb61-1f9de0b5e655"
      },
      "source": [
        "d = {'a': 0, 'b': 1, 'c': 0}\n",
        "\n",
        "if d['a'] > 0:\n",
        "    print('yeah !')\n",
        "elif d['b'] > 0:\n",
        "    print('yeah !')\n",
        "elif d['c'] > 0:\n",
        "    print('ok')\n",
        "elif d['d'] > 0:\n",
        "    print('ok')\n",
        "else:\n",
        "    print('not ok')\n"
      ],
      "execution_count": null,
      "outputs": [
        {
          "output_type": "stream",
          "text": [
            "yeah !\n"
          ],
          "name": "stdout"
        }
      ]
    },
    {
      "cell_type": "code",
      "metadata": {
        "id": "MsjA0nEH672j"
      },
      "source": [
        "import random as rand"
      ],
      "execution_count": null,
      "outputs": []
    },
    {
      "cell_type": "code",
      "metadata": {
        "colab": {
          "base_uri": "https://localhost:8080/"
        },
        "id": "E_RSe1-OKbku",
        "outputId": "1cdb40fc-21f6-4bd7-aaea-896e3f96e356"
      },
      "source": [
        "rand.randint(0, 100)"
      ],
      "execution_count": 102,
      "outputs": [
        {
          "output_type": "execute_result",
          "data": {
            "text/plain": [
              "83"
            ]
          },
          "metadata": {
            "tags": []
          },
          "execution_count": 102
        }
      ]
    },
    {
      "cell_type": "code",
      "metadata": {
        "colab": {
          "base_uri": "https://localhost:8080/"
        },
        "id": "iqMAu59kKuwS",
        "outputId": "d023854b-91fc-4fa8-a045-36fc864c1389"
      },
      "source": [
        "rand.random()"
      ],
      "execution_count": 103,
      "outputs": [
        {
          "output_type": "execute_result",
          "data": {
            "text/plain": [
              "0.48591669374352875"
            ]
          },
          "metadata": {
            "tags": []
          },
          "execution_count": 103
        }
      ]
    },
    {
      "cell_type": "code",
      "metadata": {
        "id": "Rc817JbkLIlh",
        "colab": {
          "base_uri": "https://localhost:8080/"
        },
        "outputId": "964454b9-9d75-45a3-e061-924ce7dc0114"
      },
      "source": [
        "rand.uniform(1, 4)"
      ],
      "execution_count": 107,
      "outputs": [
        {
          "output_type": "execute_result",
          "data": {
            "text/plain": [
              "2.868705084669106"
            ]
          },
          "metadata": {
            "tags": []
          },
          "execution_count": 107
        }
      ]
    },
    {
      "cell_type": "code",
      "metadata": {
        "colab": {
          "base_uri": "https://localhost:8080/"
        },
        "id": "vPUpYEBDLrlo",
        "outputId": "b5a0abcf-46e3-4010-f7e5-93ee66940352"
      },
      "source": [
        "rand.randrange(100)"
      ],
      "execution_count": 109,
      "outputs": [
        {
          "output_type": "execute_result",
          "data": {
            "text/plain": [
              "45"
            ]
          },
          "metadata": {
            "tags": []
          },
          "execution_count": 109
        }
      ]
    },
    {
      "cell_type": "code",
      "metadata": {
        "colab": {
          "base_uri": "https://localhost:8080/"
        },
        "id": "KhUzzL_6Mcyc",
        "outputId": "1b9b8b96-2769-4591-d01c-ee1ab5f565ef"
      },
      "source": [
        "color_tuple = (\"Red\", \"Green\", \"Blue\")\n",
        "color_tuple"
      ],
      "execution_count": 1,
      "outputs": [
        {
          "output_type": "execute_result",
          "data": {
            "text/plain": [
              "('Red', 'Green', 'Blue')"
            ]
          },
          "metadata": {
            "tags": []
          },
          "execution_count": 1
        }
      ]
    },
    {
      "cell_type": "code",
      "metadata": {
        "colab": {
          "base_uri": "https://localhost:8080/"
        },
        "id": "yvDIDjhYQp_9",
        "outputId": "53c4a567-7052-4956-d1be-7f0d922db0c9"
      },
      "source": [
        "type(color_tuple)"
      ],
      "execution_count": 2,
      "outputs": [
        {
          "output_type": "execute_result",
          "data": {
            "text/plain": [
              "tuple"
            ]
          },
          "metadata": {
            "tags": []
          },
          "execution_count": 2
        }
      ]
    },
    {
      "cell_type": "code",
      "metadata": {
        "colab": {
          "base_uri": "https://localhost:8080/"
        },
        "id": "7PX2ljqIFhYD",
        "outputId": "a7ecbbe0-4e1e-42aa-cf47-3cdbac9f7a72"
      },
      "source": [
        "print(color_tuple[0],color_tuple[-2],color_tuple[-1])"
      ],
      "execution_count": 6,
      "outputs": [
        {
          "output_type": "stream",
          "text": [
            "Red Green Blue\n"
          ],
          "name": "stdout"
        }
      ]
    },
    {
      "cell_type": "code",
      "metadata": {
        "colab": {
          "base_uri": "https://localhost:8080/",
          "height": 164
        },
        "id": "YJv-8BSfFrdK",
        "outputId": "34e28769-b91a-4e34-cfb6-d7df0f43055d"
      },
      "source": [
        "color_tuple[1] = \"Yellow\" #tuple is immutable"
      ],
      "execution_count": 7,
      "outputs": [
        {
          "output_type": "error",
          "ename": "TypeError",
          "evalue": "ignored",
          "traceback": [
            "\u001b[0;31m---------------------------------------------------------------------------\u001b[0m",
            "\u001b[0;31mTypeError\u001b[0m                                 Traceback (most recent call last)",
            "\u001b[0;32m<ipython-input-7-52adbc638821>\u001b[0m in \u001b[0;36m<module>\u001b[0;34m()\u001b[0m\n\u001b[0;32m----> 1\u001b[0;31m \u001b[0mcolor_tuple\u001b[0m\u001b[0;34m[\u001b[0m\u001b[0;36m1\u001b[0m\u001b[0;34m]\u001b[0m \u001b[0;34m=\u001b[0m \u001b[0;34m\"Yellow\"\u001b[0m\u001b[0;34m\u001b[0m\u001b[0;34m\u001b[0m\u001b[0m\n\u001b[0m",
            "\u001b[0;31mTypeError\u001b[0m: 'tuple' object does not support item assignment"
          ]
        }
      ]
    },
    {
      "cell_type": "code",
      "metadata": {
        "colab": {
          "base_uri": "https://localhost:8080/"
        },
        "id": "stkV5zNXIYwm",
        "outputId": "49a7b327-e828-4c91-f57d-32a01646f55a"
      },
      "source": [
        "t1 = \"Hello\"\n",
        "print(f'Adress of T1 : {id(t1)}')\n",
        "t1 = \"world\"\n",
        "print(f'Adress of T1 : {id(t1)}')"
      ],
      "execution_count": 11,
      "outputs": [
        {
          "output_type": "stream",
          "text": [
            "Adress of T1 : 139702406143256\n",
            "Adress of T1 : 139702406142416\n"
          ],
          "name": "stdout"
        }
      ]
    },
    {
      "cell_type": "code",
      "metadata": {
        "colab": {
          "base_uri": "https://localhost:8080/",
          "height": 164
        },
        "id": "8e80ukkvHa7t",
        "outputId": "083c36d2-9609-4eea-f650-1e1530f3a68d"
      },
      "source": [
        "t1[2] = \"5\" #string is immutable"
      ],
      "execution_count": 12,
      "outputs": [
        {
          "output_type": "error",
          "ename": "TypeError",
          "evalue": "ignored",
          "traceback": [
            "\u001b[0;31m---------------------------------------------------------------------------\u001b[0m",
            "\u001b[0;31mTypeError\u001b[0m                                 Traceback (most recent call last)",
            "\u001b[0;32m<ipython-input-12-d5637147ce6b>\u001b[0m in \u001b[0;36m<module>\u001b[0;34m()\u001b[0m\n\u001b[0;32m----> 1\u001b[0;31m \u001b[0mt1\u001b[0m\u001b[0;34m[\u001b[0m\u001b[0;36m2\u001b[0m\u001b[0;34m]\u001b[0m \u001b[0;34m=\u001b[0m \u001b[0;34m\"5\"\u001b[0m\u001b[0;34m\u001b[0m\u001b[0;34m\u001b[0m\u001b[0m\n\u001b[0m",
            "\u001b[0;31mTypeError\u001b[0m: 'str' object does not support item assignment"
          ]
        }
      ]
    },
    {
      "cell_type": "code",
      "metadata": {
        "id": "rDsCqYlmJm1t"
      },
      "source": [
        ""
      ],
      "execution_count": null,
      "outputs": []
    }
  ]
}