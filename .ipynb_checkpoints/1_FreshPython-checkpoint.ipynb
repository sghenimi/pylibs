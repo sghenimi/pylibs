{
 "cells": [
  {
   "cell_type": "code",
   "execution_count": 1,
   "id": "2d474847",
   "metadata": {},
   "outputs": [],
   "source": [
    "import numpy as np"
   ]
  },
  {
   "cell_type": "code",
   "execution_count": 2,
   "id": "3e93c326",
   "metadata": {},
   "outputs": [],
   "source": [
    "list1 = [\"A\", \"B\", \"C\"]"
   ]
  },
  {
   "cell_type": "code",
   "execution_count": 4,
   "id": "308a19bc",
   "metadata": {},
   "outputs": [],
   "source": [
    "nplist1D = np.array(list1)"
   ]
  },
  {
   "cell_type": "code",
   "execution_count": 5,
   "id": "f0319152",
   "metadata": {},
   "outputs": [
    {
     "name": "stdout",
     "output_type": "stream",
     "text": [
      "['A' 'B' 'C']\n"
     ]
    }
   ],
   "source": [
    "print(nplist1D)"
   ]
  },
  {
   "cell_type": "code",
   "execution_count": 12,
   "id": "fc8dcd08",
   "metadata": {},
   "outputs": [
    {
     "name": "stdout",
     "output_type": "stream",
     "text": [
      "[['1' '4' '15']\n",
      " ['5' '3' '4']\n",
      " ['66' '77' '88']]\n"
     ]
    }
   ],
   "source": [
    "liste2 = [[\"1\", \"4\", 15],[5, 3, 4], [66, 77, 88]]\n",
    "nplist2D = np.array(liste2)\n",
    "print(nplist2D)"
   ]
  },
  {
   "cell_type": "code",
   "execution_count": 13,
   "id": "b9768b7f",
   "metadata": {},
   "outputs": [
    {
     "data": {
      "text/plain": [
       "numpy.str_"
      ]
     },
     "execution_count": 13,
     "metadata": {},
     "output_type": "execute_result"
    }
   ],
   "source": [
    "type(nplist2D[0][0])"
   ]
  },
  {
   "cell_type": "code",
   "execution_count": 15,
   "id": "4488408b",
   "metadata": {},
   "outputs": [
    {
     "name": "stdout",
     "output_type": "stream",
     "text": [
      "[ 0  2  5  6  6 10]\n"
     ]
    }
   ],
   "source": [
    "print(np.sort([5, 2, 6, 10, 0, 6], False))"
   ]
  },
  {
   "cell_type": "code",
   "execution_count": 30,
   "id": "46a35fa7",
   "metadata": {},
   "outputs": [
    {
     "name": "stdout",
     "output_type": "stream",
     "text": [
      "[[8 3 2]\n",
      " [3 6 5]\n",
      " [6 1 4]]\n"
     ]
    }
   ],
   "source": [
    "arr = np.array([[8, 3, 2],\n",
    "               [3, 6, 5],\n",
    "               [6, 1, 4]])\n",
    "print(arr)"
   ]
  },
  {
   "cell_type": "code",
   "execution_count": 22,
   "id": "ad7699b9",
   "metadata": {},
   "outputs": [],
   "source": [
    "arr = np.sort(arr,\n",
    "       order=['f0'],\n",
    "       axis=0).view(int)"
   ]
  },
  {
   "cell_type": "code",
   "execution_count": 24,
   "id": "1ab0cfd2",
   "metadata": {},
   "outputs": [
    {
     "ename": "NameError",
     "evalue": "name 'view' is not defined",
     "output_type": "error",
     "traceback": [
      "\u001b[0;31m---------------------------------------------------------------------------\u001b[0m",
      "\u001b[0;31mNameError\u001b[0m                                 Traceback (most recent call last)",
      "\u001b[0;32m/var/folders/wj/cf437l1d26nd880h3ms0f9140000gn/T/ipykernel_13725/248187135.py\u001b[0m in \u001b[0;36m<module>\u001b[0;34m\u001b[0m\n\u001b[0;32m----> 1\u001b[0;31m \u001b[0mview\u001b[0m\u001b[0;34m(\u001b[0m\u001b[0;34m'i8,i8,i8'\u001b[0m\u001b[0;34m)\u001b[0m\u001b[0;34m\u001b[0m\u001b[0;34m\u001b[0m\u001b[0m\n\u001b[0m",
      "\u001b[0;31mNameError\u001b[0m: name 'view' is not defined"
     ]
    }
   ],
   "source": [
    "arr.view('i8,i8,i8')"
   ]
  },
  {
   "cell_type": "code",
   "execution_count": 26,
   "id": "443639a5",
   "metadata": {},
   "outputs": [
    {
     "name": "stdout",
     "output_type": "stream",
     "text": [
      "[[3 6 5]\n",
      " [6 1 4]\n",
      " [8 3 2]]\n"
     ]
    }
   ],
   "source": [
    "print(arr.view())"
   ]
  },
  {
   "cell_type": "code",
   "execution_count": 29,
   "id": "bde3593d",
   "metadata": {},
   "outputs": [
    {
     "data": {
      "text/plain": [
       "[8, 6, 4, 2]"
      ]
     },
     "execution_count": 29,
     "metadata": {},
     "output_type": "execute_result"
    }
   ],
   "source": [
    "arr[::-1]"
   ]
  },
  {
   "cell_type": "code",
   "execution_count": 28,
   "id": "c2e8ddaa",
   "metadata": {},
   "outputs": [],
   "source": [
    "arr = [2, 4, 6, 8]"
   ]
  },
  {
   "cell_type": "code",
   "execution_count": 32,
   "id": "f716c11d",
   "metadata": {},
   "outputs": [
    {
     "data": {
      "text/plain": [
       "(3, 3)"
      ]
     },
     "execution_count": 32,
     "metadata": {},
     "output_type": "execute_result"
    }
   ],
   "source": [
    "arr.shape"
   ]
  },
  {
   "cell_type": "code",
   "execution_count": 34,
   "id": "e2f5d4f8",
   "metadata": {},
   "outputs": [],
   "source": [
    "import random as rd"
   ]
  },
  {
   "cell_type": "code",
   "execution_count": 43,
   "id": "6c11d004",
   "metadata": {},
   "outputs": [
    {
     "name": "stdout",
     "output_type": "stream",
     "text": [
      "[2, 1, 0, 3, 1, 1, 0, 2, 0, 1]\n"
     ]
    }
   ],
   "source": [
    "print([rd.randrange(5) for i in range(10)])"
   ]
  },
  {
   "cell_type": "code",
   "execution_count": 44,
   "id": "2ac45f11",
   "metadata": {},
   "outputs": [
    {
     "data": {
      "text/plain": [
       "True"
      ]
     },
     "execution_count": 44,
     "metadata": {},
     "output_type": "execute_result"
    }
   ],
   "source": [
    "\"abcds111\".isalnum()"
   ]
  },
  {
   "cell_type": "code",
   "execution_count": 45,
   "id": "0d08b069",
   "metadata": {},
   "outputs": [
    {
     "ename": "SyntaxError",
     "evalue": "invalid syntax (4286990971.py, line 1)",
     "output_type": "error",
     "traceback": [
      "\u001b[0;36m  File \u001b[0;32m\"/var/folders/wj/cf437l1d26nd880h3ms0f9140000gn/T/ipykernel_13725/4286990971.py\"\u001b[0;36m, line \u001b[0;32m1\u001b[0m\n\u001b[0;31m    check_unique(* arr):\u001b[0m\n\u001b[0m                        ^\u001b[0m\n\u001b[0;31mSyntaxError\u001b[0m\u001b[0;31m:\u001b[0m invalid syntax\n"
     ]
    }
   ],
   "source": [
    "check_unique(* arr):\n",
    "    uniq = set(arr)\n",
    "    uniq.re\n",
    "    return len()"
   ]
  },
  {
   "cell_type": "code",
   "execution_count": 54,
   "id": "bb902160",
   "metadata": {},
   "outputs": [
    {
     "name": "stdout",
     "output_type": "stream",
     "text": [
      "{'b': 4, 'l': 3, 'a': 5, ' ': 3, 'c': 1, 'r': 1, 's': 1, 'i': 1, 't': 1, 'e': 1, 'L': 2}\n"
     ]
    }
   ],
   "source": [
    "phrase = \"blabla car sitebLLabla \"\n",
    "keys = {}\n",
    "for s in phrase:\n",
    "    if s not in keys:\n",
    "        keys[s] = 1\n",
    "    else:\n",
    "        keys[s] +=1\n",
    "print(keys)"
   ]
  },
  {
   "cell_type": "code",
   "execution_count": 55,
   "id": "e64caa88",
   "metadata": {},
   "outputs": [],
   "source": [
    "import collections"
   ]
  },
  {
   "cell_type": "code",
   "execution_count": 57,
   "id": "fa7ffd81",
   "metadata": {},
   "outputs": [
    {
     "data": {
      "text/plain": [
       "Counter({'b': 4,\n",
       "         'l': 3,\n",
       "         'a': 5,\n",
       "         ' ': 3,\n",
       "         'c': 1,\n",
       "         'r': 1,\n",
       "         's': 1,\n",
       "         'i': 1,\n",
       "         't': 1,\n",
       "         'e': 1,\n",
       "         'L': 2})"
      ]
     },
     "execution_count": 57,
     "metadata": {},
     "output_type": "execute_result"
    }
   ],
   "source": [
    "collections.Counter(phrase)"
   ]
  },
  {
   "cell_type": "code",
   "execution_count": 59,
   "id": "56828ba1",
   "metadata": {},
   "outputs": [
    {
     "name": "stdout",
     "output_type": "stream",
     "text": [
      "Pairs 2, 1\n"
     ]
    }
   ],
   "source": [
    "def print_pairs(arr, N):\n",
    "   # hash set\n",
    "   hash_set = set()\n",
    "    \n",
    "   for i in range(0, len(arr)):\n",
    "       val = N-arr[i]\n",
    "       if (val in hash_set):    #check if N-x is there in set, print the pair\n",
    "           print(\"Pairs \" + str(arr[i]) + \", \" + str(val))\n",
    "       hash_set.add(arr[i])\n",
    "\n",
    "# driver code\n",
    "arr = [1, 2, 40, 3, 9, 4]\n",
    "N = 3\n",
    "print_pairs(arr, N)\n"
   ]
  },
  {
   "cell_type": "code",
   "execution_count": 147,
   "id": "6ea4ab0a",
   "metadata": {},
   "outputs": [],
   "source": [
    "def maxPower(s) :\n",
    "        max = 1\n",
    "        l = ''\n",
    "        lg = len(s)\n",
    "        lmax =0\n",
    "        for i in range(lg-1):\n",
    "            print(\"-----------\", i)\n",
    "            if s[i] == s[i+1]:\n",
    "                l = s[i]\n",
    "                lmax +=1\n",
    "                print(\"lmax : \", lmax)\n",
    "            else:\n",
    "                lmax = 1\n",
    "                l = s[i+1]\n",
    "            if lmax > max:\n",
    "                max = lmax\n",
    "        return max\n",
    "                \n"
   ]
  },
  {
   "cell_type": "code",
   "execution_count": 148,
   "id": "767bb587",
   "metadata": {},
   "outputs": [
    {
     "name": "stdout",
     "output_type": "stream",
     "text": [
      "----------- 0\n",
      "----------- 1\n",
      "lmax :  2\n",
      "----------- 2\n",
      "----------- 3\n",
      "----------- 4\n",
      "----------- 5\n",
      "----------- 6\n",
      "2\n"
     ]
    }
   ],
   "source": [
    "print(maxPower(\"leetcode\"))"
   ]
  },
  {
   "cell_type": "code",
   "execution_count": 149,
   "id": "c05f0ceb",
   "metadata": {},
   "outputs": [],
   "source": [
    "def maxPower2(s: str) -> int:\n",
    "        count = 0\n",
    "        max_count = 0\n",
    "        previous = None\n",
    "        for c in s:\n",
    "            if c == previous:\n",
    "                # if same as previous one, increase the count\n",
    "                count += 1\n",
    "            else:\n",
    "                # else, reset the count\n",
    "                previous = c\n",
    "                count = 1\n",
    "            max_count = max(max_count, count)\n",
    "        return max_count"
   ]
  },
  {
   "cell_type": "code",
   "execution_count": 150,
   "id": "1fffe3e9",
   "metadata": {},
   "outputs": [
    {
     "name": "stdout",
     "output_type": "stream",
     "text": [
      "2\n"
     ]
    }
   ],
   "source": [
    "print(maxPower2(\"leetcode\"))"
   ]
  },
  {
   "cell_type": "code",
   "execution_count": 151,
   "id": "330d4680",
   "metadata": {},
   "outputs": [],
   "source": [
    "class ListNode:\n",
    "    def __init__(self, val=0, next=None):\n",
    "        self.val = val\n",
    "        self.next = next"
   ]
  },
  {
   "cell_type": "code",
   "execution_count": 152,
   "id": "19c10194",
   "metadata": {},
   "outputs": [
    {
     "ename": "SyntaxError",
     "evalue": "invalid syntax (3230362707.py, line 6)",
     "output_type": "error",
     "traceback": [
      "\u001b[0;36m  File \u001b[0;32m\"/var/folders/wj/cf437l1d26nd880h3ms0f9140000gn/T/ipykernel_13725/3230362707.py\"\u001b[0;36m, line \u001b[0;32m6\u001b[0m\n\u001b[0;31m    if\u001b[0m\n\u001b[0m      ^\u001b[0m\n\u001b[0;31mSyntaxError\u001b[0m\u001b[0;31m:\u001b[0m invalid syntax\n"
     ]
    }
   ],
   "source": [
    "def addTwoNumbers(ListNode: list1, ListNode: list2):\n",
    "    l1 = len(list1)\n",
    "    l2 = len(list2)\n",
    "    for i in list1:\n",
    "        for j in list2:\n",
    "            if\n",
    "    "
   ]
  },
  {
   "cell_type": "code",
   "execution_count": 156,
   "id": "55578809",
   "metadata": {},
   "outputs": [
    {
     "name": "stdout",
     "output_type": "stream",
     "text": [
      "-------- 1   :   2 5\n",
      "-------- 2   :   3 6\n"
     ]
    },
    {
     "ename": "IndexError",
     "evalue": "list index out of range",
     "output_type": "error",
     "traceback": [
      "\u001b[0;31m---------------------------------------------------------------------------\u001b[0m",
      "\u001b[0;31mIndexError\u001b[0m                                Traceback (most recent call last)",
      "\u001b[0;32m/var/folders/wj/cf437l1d26nd880h3ms0f9140000gn/T/ipykernel_13725/1932055399.py\u001b[0m in \u001b[0;36m<module>\u001b[0;34m\u001b[0m\n\u001b[1;32m      1\u001b[0m \u001b[0ma1\u001b[0m\u001b[0;34m,\u001b[0m \u001b[0ma2\u001b[0m \u001b[0;34m=\u001b[0m \u001b[0;34m[\u001b[0m\u001b[0;36m1\u001b[0m\u001b[0;34m,\u001b[0m\u001b[0;36m2\u001b[0m\u001b[0;34m,\u001b[0m\u001b[0;36m3\u001b[0m\u001b[0;34m]\u001b[0m\u001b[0;34m,\u001b[0m \u001b[0;34m[\u001b[0m\u001b[0;36m4\u001b[0m\u001b[0;34m,\u001b[0m\u001b[0;36m5\u001b[0m\u001b[0;34m,\u001b[0m\u001b[0;36m6\u001b[0m\u001b[0;34m]\u001b[0m\u001b[0;34m\u001b[0m\u001b[0;34m\u001b[0m\u001b[0m\n\u001b[1;32m      2\u001b[0m \u001b[0;32mfor\u001b[0m \u001b[0mi\u001b[0m \u001b[0;32min\u001b[0m \u001b[0ma1\u001b[0m\u001b[0;34m:\u001b[0m\u001b[0;34m\u001b[0m\u001b[0;34m\u001b[0m\u001b[0m\n\u001b[0;32m----> 3\u001b[0;31m     \u001b[0mprint\u001b[0m\u001b[0;34m(\u001b[0m\u001b[0;34m\"--------\"\u001b[0m\u001b[0;34m,\u001b[0m \u001b[0mi\u001b[0m\u001b[0;34m,\u001b[0m\u001b[0;34m\"  :  \"\u001b[0m\u001b[0;34m,\u001b[0m \u001b[0ma1\u001b[0m\u001b[0;34m[\u001b[0m\u001b[0mi\u001b[0m\u001b[0;34m]\u001b[0m\u001b[0;34m,\u001b[0m \u001b[0ma2\u001b[0m\u001b[0;34m[\u001b[0m\u001b[0mi\u001b[0m\u001b[0;34m]\u001b[0m\u001b[0;34m)\u001b[0m\u001b[0;34m\u001b[0m\u001b[0;34m\u001b[0m\u001b[0m\n\u001b[0m",
      "\u001b[0;31mIndexError\u001b[0m: list index out of range"
     ]
    }
   ],
   "source": [
    "a1, a2 = [1,2,3], [4,5,6]\n",
    "for i in a1:\n",
    "    print(\"--------\", i,\"  :  \", a1[i], a2[i])"
   ]
  },
  {
   "cell_type": "code",
   "execution_count": null,
   "id": "a0cec9be",
   "metadata": {},
   "outputs": [],
   "source": []
  }
 ],
 "metadata": {
  "kernelspec": {
   "display_name": "Python 3 (ipykernel)",
   "language": "python",
   "name": "python3"
  },
  "language_info": {
   "codemirror_mode": {
    "name": "ipython",
    "version": 3
   },
   "file_extension": ".py",
   "mimetype": "text/x-python",
   "name": "python",
   "nbconvert_exporter": "python",
   "pygments_lexer": "ipython3",
   "version": "3.9.6"
  }
 },
 "nbformat": 4,
 "nbformat_minor": 5
}
